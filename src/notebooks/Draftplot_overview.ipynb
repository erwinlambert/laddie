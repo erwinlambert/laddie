{
 "cells": [
  {
   "cell_type": "code",
   "execution_count": null,
   "id": "8f679cba-2ed0-42b6-826f-7ad6da79627a",
   "metadata": {},
   "outputs": [],
   "source": [
    "import numpy as np\n",
    "import xarray as xr\n",
    "import pyproj\n",
    "import matplotlib as mpl\n",
    "import matplotlib.pyplot as plt\n",
    "import cmocean as cmo\n",
    "from mpl_toolkits.axes_grid1 import make_axes_locatable\n",
    "from mpl_toolkits.axes_grid1.inset_locator import inset_axes\n",
    "import cartopy\n",
    "import cartopy.crs as ccrs\n",
    "\n",
    "\n",
    "import sys\n",
    "sys.path.append('../')\n",
    "\n",
    "from plotfunctions import add_lonlat\n",
    "\n",
    "np.seterr(all='ignore')\n",
    "%matplotlib inline\n",
    "%config InlineBackend.print_figure_kwargs={'bbox_inches':None}\n",
    "%load_ext autoreload\n",
    "%autoreload 2"
   ]
  },
  {
   "cell_type": "code",
   "execution_count": null,
   "id": "78b72e00-9cb9-4f6e-ab12-ccdd4eb460a6",
   "metadata": {},
   "outputs": [],
   "source": [
    "x0,x1,y0,y1 = 3445,3755,7730,8065"
   ]
  },
  {
   "cell_type": "code",
   "execution_count": null,
   "id": "ddbbb981-505d-451e-b40c-32797c3bf96f",
   "metadata": {},
   "outputs": [],
   "source": [
    "ds = xr.open_dataset('../../../data/BedMachineAntarctica_2020-07-15_v02.nc')\n",
    "ds = ds.isel(x=slice(x0,x1),y=slice(y0,y1))\n",
    "ds = add_lonlat(ds)"
   ]
  },
  {
   "cell_type": "code",
   "execution_count": null,
   "id": "b7536dc2-4dfe-4e4d-b631-c12b914c42c0",
   "metadata": {},
   "outputs": [],
   "source": [
    "cmap1 = mpl.colors.ListedColormap(plt.get_cmap('cmo.ice')(np.linspace(0,.7,255)))\n",
    "cmap2 = 'cmo.deep'\n",
    "cmap3 = mpl.colors.ListedColormap(plt.get_cmap('cmo.gray')(np.linspace(.5,.8,255)))\n",
    "\n",
    "lon0,lon1 = 245.8,251\n",
    "lat0,lat1 = -75.2,-74.4\n",
    "\n",
    "proj = ccrs.SouthPolarStereo(true_scale_latitude=-75,central_longitude=0)#260-360)\n"
   ]
  },
  {
   "cell_type": "code",
   "execution_count": null,
   "id": "4837d4d6-dcfb-449a-94bf-d4985e3de120",
   "metadata": {},
   "outputs": [],
   "source": [
    "plt.style.use('style_paper')\n",
    "\n",
    "mpl.rc('figure.subplot',left=.01,right=.9,top=.9,bottom=.05,wspace=.01,hspace=.01)\n",
    "\n",
    "fig = plt.figure(figsize=(7,3))\n",
    "\n",
    "ax = fig.add_subplot(121)\n",
    "ax.set_axis_off()\n",
    "ax.set_title('a) Model',loc='left')\n",
    "\n",
    "ax = fig.add_subplot(122,projection=proj)\n",
    "\n",
    "im1 = ax.pcolormesh(ds.lon,ds.lat,ds.bed,cmap=cmap1,shading='nearest',transform=ccrs.PlateCarree(),vmin=-1500,vmax=0)\n",
    "im2 = ax.pcolormesh(ds.lon,ds.lat,np.where(ds.mask==0,np.nan,ds.thickness),cmap=cmap2,shading='nearest',transform=ccrs.PlateCarree(),vmin=0,vmax=2000)\n",
    "var = np.where(ds.mask==0,np.nan,ds.surface-ds.thickness)\n",
    "var = np.where(ds.mask==3,np.nan,var)\n",
    "im3 = ax.pcolormesh(ds.lon,ds.lat,var,cmap=cmap3,shading='nearest',transform=ccrs.PlateCarree())#,vmin=0,vmax=1000)\n",
    "\n",
    "cb = plt.colorbar(im2,shrink=.92)#,cax=ax)\n",
    "cb.set_label('Ice shelf thickness [m]')\n",
    "\n",
    "ax.set_xticks([])\n",
    "ax.set_yticks([])\n",
    "ax.set_axis_off()\n",
    "ax.set_title('b) Geography',loc='left')\n",
    "\n",
    "axins = inset_axes(ax,width=\"35%\",height=\"35%\",loc='upper right',borderpad=.6,axes_class=cartopy.mpl.geoaxes.GeoAxes,axes_kwargs=dict(map_projection=proj))\n",
    "axins.set_extent([-180, 180, -90, -65], crs=ccrs.PlateCarree())\n",
    "axins.coastlines(linewidth=0.2, zorder=2, resolution='10m',color='k')\n",
    "axins.scatter((lon0+lon1)/2,(lat0+lat1)/2,10,facecolors='r',marker='s',edgecolors='none',transform=ccrs.PlateCarree())\n",
    "axins.set_axis_off()\n",
    "\n",
    "plt.savefig('../../figures/draftplot_overview.png',dpi=450)"
   ]
  },
  {
   "cell_type": "code",
   "execution_count": null,
   "id": "66992d15-2094-4ba0-b7c9-866ea7c258b8",
   "metadata": {},
   "outputs": [],
   "source": []
  },
  {
   "cell_type": "code",
   "execution_count": null,
   "id": "0ce0b901-c6fa-4818-8e7d-c6c534af2a0e",
   "metadata": {},
   "outputs": [],
   "source": []
  }
 ],
 "metadata": {
  "kernelspec": {
   "display_name": "Python 3 (ipykernel)",
   "language": "python",
   "name": "python3"
  },
  "language_info": {
   "codemirror_mode": {
    "name": "ipython",
    "version": 3
   },
   "file_extension": ".py",
   "mimetype": "text/x-python",
   "name": "python",
   "nbconvert_exporter": "python",
   "pygments_lexer": "ipython3",
   "version": "3.8.12"
  }
 },
 "nbformat": 4,
 "nbformat_minor": 5
}
