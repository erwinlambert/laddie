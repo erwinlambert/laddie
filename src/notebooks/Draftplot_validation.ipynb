{
 "cells": [
  {
   "cell_type": "code",
   "execution_count": null,
   "id": "f0b1a87f-c1c2-4300-b58d-202c6cb586c8",
   "metadata": {},
   "outputs": [],
   "source": [
    "import numpy as np\n",
    "import xarray as xr\n",
    "import pyproj\n",
    "import matplotlib as mpl\n",
    "import matplotlib.pyplot as plt\n",
    "import cmocean as cmo\n",
    "from mpl_toolkits.axes_grid1 import make_axes_locatable\n",
    "from mpl_toolkits.axes_grid1.inset_locator import inset_axes\n",
    "import cartopy\n",
    "import cartopy.crs as ccrs\n",
    "\n",
    "import sys\n",
    "sys.path.append('../')\n",
    "\n",
    "from plotfunctions import add_lonlat\n",
    "\n",
    "np.seterr(all='ignore')\n",
    "%matplotlib inline\n",
    "%config InlineBackend.print_figure_kwargs={'bbox_inches':None}\n",
    "%load_ext autoreload\n",
    "%autoreload 2"
   ]
  },
  {
   "cell_type": "code",
   "execution_count": null,
   "id": "40d6ecb5-f0c1-4ce3-aaaf-f30dcd1030e4",
   "metadata": {},
   "outputs": [],
   "source": [
    "startyear,endyear = 1966,1966\n",
    "\n",
    "axex = [245.8,251,-75.2,-74.4]\n",
    "proj = ccrs.SouthPolarStereo(true_scale_latitude=-75,central_longitude=0)"
   ]
  },
  {
   "cell_type": "code",
   "execution_count": null,
   "id": "8232b687-8ff6-4a6e-989d-4514dba7ac29",
   "metadata": {},
   "outputs": [],
   "source": [
    "#Read MITgcm data for region corresponding to geometry\n",
    "timep= slice(f\"{startyear}-1-1\",f\"{endyear}-12-31\")\n",
    "ds = xr.open_dataset('../../../data/paulholland/PAS_851/stateTheta.nc')\n",
    "ds = ds.sel(LONGITUDE=slice(360-114.7,360-109),LATITUDE=slice(-75.3,-74.1),TIME=timep)\n",
    "ds = ds.mean(dim='TIME')\n",
    "lon   = (ds.LONGITUDE-360.).values\n",
    "lat   = (ds.LATITUDE-.05).values\n",
    "dep   = ds.DEPTH.values\n",
    "theta = ds.THETA.values\n",
    "ds.close()\n",
    "ds = xr.open_dataset('../../../data/paulholland/PAS_851/stateSalt.nc')\n",
    "ds = ds.sel(LONGITUDE=slice(360-114.7,360-109),LATITUDE=slice(-75.3,-74.1),TIME=timep)\n",
    "ds = ds.mean(dim='TIME')\n",
    "salt  = ds.SALT.values\n",
    "ds.close()"
   ]
  },
  {
   "cell_type": "code",
   "execution_count": null,
   "id": "36ac9c11-aa53-4035-ba09-7cc4afb1c8f6",
   "metadata": {},
   "outputs": [],
   "source": [
    "T = np.zeros((len(lat),len(lon)))\n",
    "S = np.zeros((len(lat),len(lon)))\n",
    "D = np.zeros((len(lat),len(lon)))\n",
    "draft = np.zeros((len(lat),len(lon)))\n",
    "depp = (dep[1:]+dep[:-1])/2\n",
    "for j,jj in enumerate(lat):\n",
    "    for i,ii in enumerate(lon):\n",
    "        if salt[0,j,i] == 0:\n",
    "            k = np.nonzero(salt[:,j,i])[0]\n",
    "            if len(k)>0:\n",
    "                T[j,i] = theta[k[0],j,i]\n",
    "                S[j,i] = salt[k[0],j,i]\n",
    "                draft[j,i] = dep[k[0]]\n",
    "            else:\n",
    "                T[j,i] = np.nan\n",
    "                S[j,i] = np.nan\n",
    "                draft[j,i] = np.nan\n",
    "        else:\n",
    "            T[j,i] = np.nan\n",
    "            S[j,i] = np.nan\n",
    "            draft[j,i] = np.nan\n",
    "            \n",
    "        Sq = np.where(salt[:,j,i]==0,np.nan,salt[:,j,i])\n",
    "        dSdz = (Sq[1:]-Sq[:-1])/(dep[1:]-dep[:-1])\n",
    "        if ~np.isnan(S[j,i]) and sum(~np.isnan(dSdz))>2:\n",
    "            D[j,i] = depp[np.nanargmax(dSdz)]-draft[j,i]\n",
    "        else:\n",
    "            D[j,i] = np.nan"
   ]
  },
  {
   "cell_type": "code",
   "execution_count": null,
   "id": "e25ef421-91cc-4d60-b6df-30d633e4911f",
   "metadata": {},
   "outputs": [],
   "source": [
    "def makebackground(ax,axex):\n",
    "    cmap = plt.get_cmap('ocean')\n",
    "    ds = xr.open_dataset('../../../data/BedMachineAntarctica_2020-07-15_v02.nc')\n",
    "    ds = ds.isel(x=slice(3400,3800),y=slice(7700,8150))\n",
    "    mask = xr.where(ds.mask==1,2,ds.mask)\n",
    "    ds = add_lonlat(ds)\n",
    "    \n",
    "    ax.set_facecolor(\".7\")\n",
    "    \n",
    "    cmap1 = mpl.colors.ListedColormap(plt.get_cmap('cmo.ice')(np.linspace(0,.5,255)))\n",
    "    cmap3 = mpl.colors.ListedColormap(plt.get_cmap('cmo.gray')(np.linspace(.5,.8,255)))\n",
    "\n",
    "    im1 = ax.pcolormesh(ds.lon,ds.lat,np.where(mask==0,ds.bed,np.nan),cmap=cmap1,shading='nearest',transform=ccrs.PlateCarree(),vmin=-1500,vmax=0)\n",
    "    im2 = ax.pcolormesh(ds.lon,ds.lat,np.where(mask==2,ds.surface-ds.thickness,np.nan),cmap=cmap3,shading='nearest',transform=ccrs.PlateCarree(),vmin=0,vmax=2000)\n",
    "\n",
    "    ax.set_extent(axex,crs=ccrs.PlateCarree())"
   ]
  },
  {
   "cell_type": "code",
   "execution_count": null,
   "id": "f4031945-737f-4b02-b078-7d80d7e1b1ac",
   "metadata": {},
   "outputs": [],
   "source": [
    "def plotmelt(nax,lon,lat,var,cmap,vmin,vmax,title=''):\n",
    "    ax = fig.add_subplot(3,4,nax,projection=proj)\n",
    "    makebackground(ax,axex)\n",
    "    ax.set_extent(axex,crs=ccrs.PlateCarree())\n",
    "    im = ax.pcolormesh(lon,lat,var,cmap=cmap,vmin=vmin,vmax=vmax,shading='nearest',transform=ccrs.PlateCarree())\n",
    "    ax.set_title(title,loc='left')\n",
    "    return im"
   ]
  },
  {
   "cell_type": "code",
   "execution_count": null,
   "id": "377dbc25-d450-47f6-a3eb-2d28480e2038",
   "metadata": {},
   "outputs": [],
   "source": [
    "def addcbar(nax,im,label,extend='both'):\n",
    "    ax = fig.add_subplot(3,4,nax)\n",
    "    ax.set_visible(False)\n",
    "    axins = inset_axes(ax,width=\"8%\",height=\"100%\",loc='lower left',bbox_to_anchor=(1.03, 0, 1, 1),bbox_transform=ax.transAxes,borderpad=0)\n",
    "    cbar = plt.colorbar(im, cax=axins,extend=extend)\n",
    "    cbar.set_label(label)"
   ]
  },
  {
   "cell_type": "code",
   "execution_count": null,
   "id": "3c29cb74-dbf7-4571-bfb8-9996d0d06b6e",
   "metadata": {},
   "outputs": [],
   "source": [
    "Tmin = -2\n",
    "Tmax = .5\n",
    "Smin = 33.6\n",
    "Smax = 34.6\n",
    "Dmin = 0\n",
    "Dmax = 200"
   ]
  },
  {
   "cell_type": "code",
   "execution_count": null,
   "id": "ae3d8d5d-6ea3-464e-8334-3556ce03eba5",
   "metadata": {},
   "outputs": [],
   "source": [
    "plt.style.use('style_paper')\n",
    "\n",
    "mpl.rc('figure.subplot',left=.01,right=.88,top=.95,bottom=.03,wspace=0,hspace=.1)\n",
    "\n",
    "fig = plt.figure(figsize=(7,6))\n",
    "\n",
    "#MITgcm\n",
    "imT = plotmelt(1,lon,lat,T,'cmo.thermal',Tmin,Tmax,'MITgcm')\n",
    "imS = plotmelt(5,lon,lat,S,'cmo.haline',Smin,Smax)\n",
    "imD = plotmelt(9,lon,lat,D,'cmo.deep',Dmin,Dmax)\n",
    "\n",
    "#Layer\n",
    "for r,res in enumerate(['2.0','1.0','0.5']):\n",
    "    ds = xr.open_dataset(f'../../results/spinup/CrossDots_{res}_mitgcm_{startyear}_{endyear}_030.nc')\n",
    "    plotmelt(2+r,ds.lon,ds.lat,np.where(ds.tmask,ds.T,np.nan),'cmo.thermal',Tmin,Tmax,f'{res} km')\n",
    "    plotmelt(6+r,ds.lon,ds.lat,np.where(ds.tmask,ds.S,np.nan),'cmo.haline',Smin,Smax)\n",
    "    plotmelt(10+r,ds.lon,ds.lat,np.where(ds.tmask,ds.D,np.nan),'cmo.deep',Dmin,Dmax)\n",
    "    ds.close()\n",
    "\n",
    "addcbar(4,imT,'Temperature [degC]','max')\n",
    "addcbar(8,imS,'Salinity [psu]')\n",
    "addcbar(12,imD,'Thickness [m]','max')\n",
    "\n",
    "plt.savefig('../../figures/draftplot_validation.png',dpi=450)"
   ]
  },
  {
   "cell_type": "code",
   "execution_count": null,
   "id": "821fd0f9-c844-409e-a018-eeb3159b5474",
   "metadata": {},
   "outputs": [],
   "source": []
  }
 ],
 "metadata": {
  "kernelspec": {
   "display_name": "Python 3 (ipykernel)",
   "language": "python",
   "name": "python3"
  },
  "language_info": {
   "codemirror_mode": {
    "name": "ipython",
    "version": 3
   },
   "file_extension": ".py",
   "mimetype": "text/x-python",
   "name": "python",
   "nbconvert_exporter": "python",
   "pygments_lexer": "ipython3",
   "version": "3.8.12"
  }
 },
 "nbformat": 4,
 "nbformat_minor": 5
}
