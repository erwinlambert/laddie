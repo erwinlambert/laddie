{
 "cells": [
  {
   "cell_type": "code",
   "execution_count": null,
   "id": "b33580c4-f855-4d45-ac2d-5fded727fe8d",
   "metadata": {},
   "outputs": [],
   "source": [
    "import numpy as np\n",
    "import xarray as xr\n",
    "import pyproj\n",
    "import matplotlib as mpl\n",
    "import matplotlib.pyplot as plt\n",
    "import cmocean as cmo\n",
    "from mpl_toolkits.axes_grid1 import make_axes_locatable\n",
    "from mpl_toolkits.axes_grid1.inset_locator import inset_axes\n",
    "import cartopy\n",
    "import cartopy.crs as ccrs\n",
    "\n",
    "\n",
    "import sys\n",
    "sys.path.append('../')\n",
    "\n",
    "from plotfunctions import add_lonlat\n",
    "\n",
    "np.seterr(all='ignore')\n",
    "%matplotlib inline\n",
    "%config InlineBackend.print_figure_kwargs={'bbox_inches':None}\n",
    "%load_ext autoreload\n",
    "%autoreload 2"
   ]
  },
  {
   "cell_type": "code",
   "execution_count": null,
   "id": "5db3e675-f243-442f-a0d1-9b294b09c36d",
   "metadata": {
    "tags": []
   },
   "outputs": [],
   "source": [
    "proj = ccrs.SouthPolarStereo(true_scale_latitude=-82,central_longitude=20)#260-360)\n",
    "axex = [165,210,-86,-77]"
   ]
  },
  {
   "cell_type": "code",
   "execution_count": null,
   "id": "ce307239-7255-4e91-9201-a900fb4a6073",
   "metadata": {
    "tags": []
   },
   "outputs": [],
   "source": [
    "def makebackground(ax,axex):\n",
    "    cmap = plt.get_cmap('ocean')\n",
    "    ds = xr.open_dataset('../../../data/BedMachineAntarctica_2020-07-15_v02.nc')\n",
    "    ds = ds.isel(x=slice(5000,8000),y=slice(7000,10000))\n",
    "    mask = xr.where(ds.mask==1,2,ds.mask)\n",
    "    #mask[:] = xr.where(mask==1,2,mask)\n",
    "    ds = add_lonlat(ds)\n",
    "    ds.lon[:] = xr.where(ds.lon<0,ds.lon+360,ds.lon)\n",
    "    ax.set_facecolor(\".7\")\n",
    "    \n",
    "    cmap1 = mpl.colors.ListedColormap(plt.get_cmap('cmo.algae_r')(np.linspace(0,.4,255)))\n",
    "    cmap3 = mpl.colors.ListedColormap(plt.get_cmap('cmo.gray')(np.linspace(.2,.6,255)))\n",
    "\n",
    "    im1 = ax.pcolormesh(ds.lon,ds.lat,np.where(mask==0,ds.bed,np.nan),cmap=cmap1,shading='nearest',transform=ccrs.PlateCarree(),vmin=-1500,vmax=0)\n",
    "    #im2 = ax.pcolormesh(ds.lon,ds.lat,np.where(mask==2,ds.surface-ds.thickness,np.nan),cmap=cmap3,shading='nearest',transform=ccrs.PlateCarree(),vmin=0,vmax=2000)\n",
    "    im2 = ax.pcolormesh(ds.lon,ds.lat,np.where(mask==2,ds.bed,np.nan),cmap=cmap3,shading='nearest',transform=ccrs.PlateCarree(),vmin=-2000,vmax=0)\n",
    "\n",
    "    ax.set_extent(axex,crs=ccrs.PlateCarree())\n",
    "    #gl = ax.gridlines(linewidth=.2,color='.9')\n",
    "    #gl.xlocator = mpl.ticker.FixedLocator(np.arange(-180,179,1))\n",
    "    #gl.ylocator = mpl.ticker.FixedLocator(np.arange(-89,89,.2))"
   ]
  },
  {
   "cell_type": "code",
   "execution_count": null,
   "id": "a08d4f4e-4e96-427c-a9c8-7387819f56bf",
   "metadata": {
    "tags": []
   },
   "outputs": [],
   "source": [
    "vmax = 100\n",
    "vmin = -10\n",
    "linthresh = .3\n",
    "linscale = .25\n",
    "\n",
    "fracpos = (np.log10(vmax/linthresh)+linscale)/(np.log10(vmax/linthresh)+np.log10(-(vmin/linthresh))+2*linscale)\n",
    "#fracpos = (np.log10(vmax/linthresh)+.5*linscale)/(np.log10(vmax)+np.log10(-(vmin/linthresh))+1*linscale)\n",
    "\n",
    "#print(fracpos)\n",
    "nneg = np.int_((1-fracpos)*256)+1\n",
    "\n",
    "colors1 = plt.get_cmap('cmo.ice_r')(np.linspace(0,1,nneg))\n",
    "#colors1 = plt.cm.PuBu(np.linspace(.2,.8, nneg))\n",
    "colors2 = plt.cm.inferno(np.linspace(0, 1, 256-nneg))\n",
    "\n",
    "# combine them and build a new colormap\n",
    "colors = np.vstack((colors1, colors2))\n",
    "mymap = mpl.colors.LinearSegmentedColormap.from_list('my_colormap', colors)"
   ]
  },
  {
   "cell_type": "code",
   "execution_count": null,
   "id": "b60c73fd-fd07-48a9-8eaf-be4f5a53fa79",
   "metadata": {
    "tags": []
   },
   "outputs": [],
   "source": [
    "plt.style.use('style_paper')\n",
    "\n",
    "mpl.rc('figure.subplot',left=.05,right=.95,top=.95,bottom=.1,wspace=.2,hspace=.1)\n",
    "\n",
    "ds = xr.open_dataset(f'../../results/Ross_2.0_linear_S134.3_T1-2.3_720.nc')\n",
    "ds.lon[:] = xr.where(ds.lon<0,ds.lon+360,ds.lon)\n",
    "fig = plt.figure(figsize=(6,7))\n",
    "ax = fig.add_subplot(111,projection=proj)\n",
    "makebackground(ax,axex)\n",
    "im = ax.pcolormesh(ds.lon,ds.lat,xr.where(ds.tmask==1,ds.melt,np.nan),shading='auto',cmap=mymap,norm=mpl.colors.SymLogNorm(linthresh, vmin=vmin, vmax=vmax, linscale=linscale),transform=ccrs.PlateCarree())\n",
    "\n",
    "#ax.contour(ds.lon,ds.lat,xr.where(ds.tmask==1,ds.melt,np.nan),levels=[0,1e5],colors='w',transform=ccrs.PlateCarree())\n",
    "\n",
    "ax.gridlines(draw_labels=True)\n",
    "axins = inset_axes(ax,width=\"100%\",height=\"5%\",loc='lower left',bbox_to_anchor=(0,-.12,1,1),bbox_transform=ax.transAxes,borderpad=0)\n",
    "ticks = [-3,-1,-.3,-.1,0,.1,.3,1,3,10]\n",
    "cbar = plt.colorbar(im, cax=axins,extend='both',orientation='horizontal')\n",
    "cbar.set_ticks(ticks)\n",
    "cbar.set_ticklabels(ticks)\n",
    "cbar.set_label('Freezing / Melt rate [m yr$^{-1}$]')\n",
    "\n",
    "\n",
    "plt.savefig('../../figures/draftplot_Ross_2.0.png',dpi=450)"
   ]
  },
  {
   "cell_type": "code",
   "execution_count": null,
   "id": "91d9763e-4f43-4c67-be12-eb1e678eea9c",
   "metadata": {
    "tags": []
   },
   "outputs": [],
   "source": [
    "plt.style.use('style_paper')\n",
    "\n",
    "mpl.rc('figure.subplot',left=.05,right=.95,top=.95,bottom=.1,wspace=.2,hspace=.1)\n",
    "\n",
    "ds = xr.open_dataset(f'../../results/Ross_1.0_linear_S134.3_T1-2.3_050.nc')\n",
    "ds.lon[:] = xr.where(ds.lon<0,ds.lon+360,ds.lon)\n",
    "fig = plt.figure(figsize=(6,7))\n",
    "ax = fig.add_subplot(111,projection=proj)\n",
    "makebackground(ax,axex)\n",
    "im = ax.pcolormesh(ds.lon,ds.lat,xr.where(ds.tmask==1,ds.melt,np.nan),shading='auto',cmap=mymap,norm=mpl.colors.SymLogNorm(linthresh, vmin=vmin, vmax=vmax, linscale=linscale),transform=ccrs.PlateCarree())\n",
    "\n",
    "#ax.contour(ds.lon,ds.lat,xr.where(ds.tmask==1,ds.melt,np.nan),levels=[0,1e5],colors='w',transform=ccrs.PlateCarree())\n",
    "\n",
    "ax.gridlines(draw_labels=True)\n",
    "axins = inset_axes(ax,width=\"100%\",height=\"5%\",loc='lower left',bbox_to_anchor=(0,-.12,1,1),bbox_transform=ax.transAxes,borderpad=0)\n",
    "ticks = [-3,-1,-.3,-.1,0,.1,.3,1,3,10]\n",
    "cbar = plt.colorbar(im, cax=axins,extend='both',orientation='horizontal')\n",
    "cbar.set_ticks(ticks)\n",
    "cbar.set_ticklabels(ticks)\n",
    "cbar.set_label('Freezing / Melt rate [m yr$^{-1}$]')\n",
    "\n",
    "\n",
    "plt.savefig('../../figures/draftplot_Ross_1.0.png',dpi=450)"
   ]
  },
  {
   "cell_type": "code",
   "execution_count": null,
   "id": "22ef3adc-2e91-4802-912c-9abab9193874",
   "metadata": {},
   "outputs": [],
   "source": []
  },
  {
   "cell_type": "code",
   "execution_count": null,
   "id": "31b914a4-8146-4826-be62-59b05ebb7682",
   "metadata": {},
   "outputs": [],
   "source": []
  }
 ],
 "metadata": {
  "kernelspec": {
   "display_name": "Python 3 (ipykernel)",
   "language": "python",
   "name": "python3"
  },
  "language_info": {
   "codemirror_mode": {
    "name": "ipython",
    "version": 3
   },
   "file_extension": ".py",
   "mimetype": "text/x-python",
   "name": "python",
   "nbconvert_exporter": "python",
   "pygments_lexer": "ipython3",
   "version": "3.8.12"
  }
 },
 "nbformat": 4,
 "nbformat_minor": 5
}
