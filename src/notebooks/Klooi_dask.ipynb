{
 "cells": [
  {
   "cell_type": "code",
   "execution_count": null,
   "id": "30972ce7-83e0-4aa4-b45f-f4e58fda057a",
   "metadata": {},
   "outputs": [],
   "source": [
    "import sys\n",
    "import xarray as xr\n",
    "import numpy as np\n",
    "import matplotlib.pyplot as plt\n",
    "import cmocean as cmo\n",
    "import dask\n",
    "import dask.distributed as dd\n",
    "import dask.array as da\n",
    "from dask import delayed\n",
    "\n",
    "from time import sleep\n",
    "\n",
    "sys.path.append('../')\n",
    "\n",
    "from geometry import bedmachine\n",
    "\n",
    "np.set_printoptions(precision=2)\n",
    "%matplotlib notebook\n",
    "%matplotlib inline\n",
    "%config InlineBackend.print_figure_kwargs={'bbox_inches':None}\n",
    "%load_ext autoreload\n",
    "%autoreload 2"
   ]
  },
  {
   "cell_type": "code",
   "execution_count": null,
   "id": "14aef367-4ad6-448e-94ec-05fcf47d0f59",
   "metadata": {},
   "outputs": [],
   "source": [
    "ds = xr.open_dataset(\"../../data/BedMachineAntarctica_2020-07-15_v02.nc\")\n",
    "var = ds.thickness.values"
   ]
  },
  {
   "cell_type": "code",
   "execution_count": null,
   "id": "3bd8a2f4-234b-4a71-a80a-a5f42034ce5f",
   "metadata": {},
   "outputs": [],
   "source": [
    "def roll(x):\n",
    "    x = np.roll(x,1,axis=0)\n",
    "    return x\n",
    "\n",
    "@delayed\n",
    "def droll(x):\n",
    "    x = np.roll(x,1,axis=0)\n",
    "    return x"
   ]
  },
  {
   "cell_type": "code",
   "execution_count": null,
   "id": "f5f7a221-ff77-49fc-a55b-4b45a9a64b6f",
   "metadata": {},
   "outputs": [],
   "source": [
    "chunk = 400"
   ]
  },
  {
   "cell_type": "code",
   "execution_count": null,
   "id": "ad17c426-1fc1-467b-851c-44eaa7d2ff2e",
   "metadata": {},
   "outputs": [],
   "source": [
    "dvar = da.from_array(var,chunks=(chunk))\n",
    "dvar\n",
    "\n",
    "depth = {0:1,1:1}\n",
    "boundary={0:'periodic',1:'periodic'}\n",
    "odvar = da.overlap.overlap(dvar,depth=depth,boundary=boundary)"
   ]
  },
  {
   "cell_type": "code",
   "execution_count": null,
   "id": "676c3e37-5a4a-4f82-9878-4fb4cae52d05",
   "metadata": {},
   "outputs": [],
   "source": [
    "%%time\n",
    "for n in range(100):\n",
    "    var = roll(var)"
   ]
  },
  {
   "cell_type": "code",
   "execution_count": null,
   "id": "d5776eab-e27d-4c8d-870b-d0d46c3cb8ca",
   "metadata": {},
   "outputs": [],
   "source": [
    "%%time\n",
    "for n in range(100):\n",
    "    dvar = droll(dvar)\n",
    "    \n",
    "dvar.compute()"
   ]
  },
  {
   "cell_type": "code",
   "execution_count": null,
   "id": "e6b231c8-bea2-43a4-9c67-5ce374386cc3",
   "metadata": {},
   "outputs": [],
   "source": [
    "%%time\n",
    "for n in range(100):\n",
    "    odvar = droll(odvar)\n",
    "\n",
    "odvar.compute()"
   ]
  },
  {
   "cell_type": "code",
   "execution_count": null,
   "id": "8a0530b0-1350-4dc1-81f9-20bafdbcdba8",
   "metadata": {},
   "outputs": [],
   "source": [
    "%%time\n",
    "y.compute()"
   ]
  },
  {
   "cell_type": "code",
   "execution_count": null,
   "id": "01ff2b0a-14aa-493d-859b-ac7e302011f8",
   "metadata": {},
   "outputs": [],
   "source": [
    "client = dd.Client(n_workers=8)"
   ]
  },
  {
   "cell_type": "code",
   "execution_count": null,
   "id": "a1b086d3-ff76-42cf-a99b-f0a8a7ad88f6",
   "metadata": {},
   "outputs": [],
   "source": [
    "@delayed\n",
    "def inc(x):\n",
    "    sleep(1)\n",
    "    return x+1\n",
    "\n",
    "@delayed\n",
    "def add(x,y):\n",
    "    sleep(1)\n",
    "    return x+y"
   ]
  },
  {
   "cell_type": "code",
   "execution_count": null,
   "id": "26251762-576d-4432-971c-6ccefbaa85a7",
   "metadata": {},
   "outputs": [],
   "source": [
    "%%time\n",
    "x = inc(1)\n",
    "y = inc(2)\n",
    "z = add(x,y)"
   ]
  },
  {
   "cell_type": "code",
   "execution_count": null,
   "id": "b69d3228-01a5-491f-82f5-7887f7a4858b",
   "metadata": {},
   "outputs": [],
   "source": [
    "%%time\n",
    "z.compute()"
   ]
  },
  {
   "cell_type": "code",
   "execution_count": null,
   "id": "71da7984-7a56-479d-8150-77f47bd84e95",
   "metadata": {},
   "outputs": [],
   "source": [
    "data = [1, 2, 3, 4, 5, 6, 7, 8]"
   ]
  },
  {
   "cell_type": "code",
   "execution_count": null,
   "id": "b1687b7b-27ce-4785-88d5-de042c7ac47a",
   "metadata": {},
   "outputs": [],
   "source": [
    "%%time\n",
    "# Sequential code\n",
    "\n",
    "results = []\n",
    "for x in data:\n",
    "    y = inc(x)\n",
    "    results.append(y)\n",
    "\n",
    "total = sum(results)"
   ]
  },
  {
   "cell_type": "code",
   "execution_count": null,
   "id": "8db971aa-8f14-442f-9335-cc80674ee4f9",
   "metadata": {},
   "outputs": [],
   "source": [
    "total"
   ]
  },
  {
   "cell_type": "code",
   "execution_count": null,
   "id": "eee51680-d05b-4608-b2d5-33771e72c7c1",
   "metadata": {},
   "outputs": [],
   "source": [
    "%%time\n",
    "results = []\n",
    "\n",
    "for x in data:\n",
    "    y = delayed(inc)(x)\n",
    "    results.append(y)\n",
    "\n",
    "total = delayed(sum)(results)\n",
    "print(\"Before computing:\", total)  # Let's see what type of thing total is\n",
    "result = total.compute()\n",
    "print(\"After computing :\", result)  # After it's computed\n"
   ]
  },
  {
   "cell_type": "code",
   "execution_count": null,
   "id": "da3dcdd4-39c0-4771-80b4-bd66f89090ba",
   "metadata": {},
   "outputs": [],
   "source": []
  }
 ],
 "metadata": {
  "kernelspec": {
   "display_name": "Python 3 (ipykernel)",
   "language": "python",
   "name": "python3"
  },
  "language_info": {
   "codemirror_mode": {
    "name": "ipython",
    "version": 3
   },
   "file_extension": ".py",
   "mimetype": "text/x-python",
   "name": "python",
   "nbconvert_exporter": "python",
   "pygments_lexer": "ipython3",
   "version": "3.8.12"
  }
 },
 "nbformat": 4,
 "nbformat_minor": 5
}
