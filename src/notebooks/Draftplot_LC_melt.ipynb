{
 "cells": [
  {
   "cell_type": "code",
   "execution_count": null,
   "id": "28e002ab-8d27-455d-99cb-7718aff4b437",
   "metadata": {},
   "outputs": [],
   "source": [
    "import numpy as np\n",
    "import h5py\n",
    "import xarray as xr\n",
    "import pyproj\n",
    "import matplotlib as mpl\n",
    "import matplotlib.pyplot as plt\n",
    "import cmocean as cmo\n",
    "from mpl_toolkits.axes_grid1 import make_axes_locatable\n",
    "from mpl_toolkits.axes_grid1.inset_locator import inset_axes\n",
    "import cartopy\n",
    "import cartopy.crs as ccrs\n",
    "import string\n",
    "\n",
    "import sys\n",
    "sys.path.append('../')\n",
    "\n",
    "from plotfunctions import add_lonlat\n",
    "\n",
    "np.seterr(all='ignore')\n",
    "%matplotlib inline\n",
    "%config InlineBackend.print_figure_kwargs={'bbox_inches':None}\n",
    "%load_ext autoreload\n",
    "%autoreload 2"
   ]
  },
  {
   "cell_type": "code",
   "execution_count": null,
   "id": "2182f116-b205-4470-a83c-2e25cfa5003a",
   "metadata": {},
   "outputs": [],
   "source": [
    "proj = ccrs.SouthPolarStereo(true_scale_latitude=-78,central_longitude=-60)#260-360)\n",
    "axex = [294.5,300,-69.5,-65.5]\n",
    "#axex2 = [295,300,-75.5,-75]\n",
    "#axex3 = [277.2,278.2,-79.2,-78.2]\n",
    "#axex4 = [290,298,-78.4,-78.2]\n",
    "\n",
    "cmap1 = mpl.colors.ListedColormap(plt.get_cmap('cmo.deep_r')(np.linspace(0,.4,255)))\n",
    "cmap2 = 'cmo.rain'\n",
    "cmap3 = mpl.colors.ListedColormap(plt.get_cmap('cmo.gray')(np.linspace(.2,.6,255)))\n",
    "\n",
    "x0,x1,y0,y1 = 1500,3000,3900,5000"
   ]
  },
  {
   "cell_type": "code",
   "execution_count": null,
   "id": "cd2c8b83-fbdb-4b10-b70a-63d556b01256",
   "metadata": {},
   "outputs": [],
   "source": [
    "vmax = 10\n",
    "vmin = -10\n",
    "linthresh = .3\n",
    "linscale = .25\n",
    "\n",
    "\n",
    "fracpos = (np.log10(vmax/linthresh)+linscale)/(np.log10(vmax/linthresh)+np.log10(-(vmin/linthresh))+2*linscale)\n",
    "#print(fracpos)\n",
    "nneg = np.int_((1-fracpos)*256)\n",
    "\n",
    "colors1 = plt.get_cmap('cmo.ice_r')(np.linspace(0,.9,nneg))\n",
    "colors2 = plt.cm.inferno(np.linspace(0.1, 1, 256-nneg))\n",
    "\n",
    "# combine them and build a new colormap\n",
    "colors = np.vstack((colors1, colors2))\n",
    "mymap = mpl.colors.LinearSegmentedColormap.from_list('my_colormap', colors)\n"
   ]
  },
  {
   "cell_type": "code",
   "execution_count": null,
   "id": "3218cc3d-0ed7-48a9-9c62-21e8de57d744",
   "metadata": {},
   "outputs": [],
   "source": [
    "def makebackground(ax,axex):\n",
    "    cmap = plt.get_cmap('ocean')\n",
    "    ds = xr.open_dataset('../../../data/BedMachineAntarctica_2020-07-15_v02.nc')\n",
    "    ds = ds.isel(x=slice(x0,x1),y=slice(y0,y1))\n",
    "    mask = xr.where(ds.mask==1,2,ds.mask)\n",
    "    ds = add_lonlat(ds)\n",
    "    \n",
    "    ax.set_facecolor(\".7\")\n",
    "    \n",
    "    im1 = ax.pcolormesh(ds.lon,ds.lat,np.where(mask==0,ds.bed,np.nan),cmap=cmap1,shading='nearest',transform=ccrs.PlateCarree(),vmin=-1500,vmax=0)\n",
    "    im2 = ax.pcolormesh(ds.lon,ds.lat,np.where(mask==2,ds.bed,np.nan),cmap=cmap3,shading='nearest',transform=ccrs.PlateCarree(),vmin=-2000,vmax=0)\n",
    "\n",
    "    ax.set_extent(axex,crs=ccrs.PlateCarree())"
   ]
  },
  {
   "cell_type": "code",
   "execution_count": null,
   "id": "38c470d0-5bc3-43d2-95f8-e49121da4149",
   "metadata": {},
   "outputs": [],
   "source": [
    "def add_zoom(ax,axexs):\n",
    "    for axx in axexs:\n",
    "        axins = inset_axes(ax,width=\"0%\",height=\"0%\",loc='lower right',borderpad=0,axes_class=cartopy.mpl.geoaxes.GeoAxes,axes_kwargs=dict(map_projection=proj))    \n",
    "        axins.set_extent(axx,crs=ccrs.PlateCarree())\n",
    "        ax.indicate_inset_zoom(axins, edgecolor=\"k\",lw=1)\n",
    "        \n",
    "    ax.text(.19,.74,'WB',transform=ax.transAxes)\n",
    "    ax.text(.16,.05,'RG',transform=ax.transAxes)    \n",
    "    ax.text(.35,.4,'KI',transform=ax.transAxes)    \n"
   ]
  },
  {
   "cell_type": "code",
   "execution_count": null,
   "id": "9f5fefe0-6890-4b94-88ba-07febcd5f80a",
   "metadata": {},
   "outputs": [],
   "source": [
    "def plotmelt(ax,lon,lat,melt,title):\n",
    "    makebackground(ax,axex)\n",
    "    ax.set_extent(axex,crs=ccrs.PlateCarree())\n",
    "    im = ax.pcolormesh(lon,lat,melt,cmap=mymap,norm=mpl.colors.SymLogNorm(linthresh, vmin=vmin, vmax=vmax, linscale=linscale),shading='nearest',transform=ccrs.PlateCarree())\n",
    "\n",
    "    ax.set_title(title,loc='left',fontsize=10)\n",
    "    \n",
    "    #add_zoom(ax,[axex2,axex3,axex4])\n",
    "    \n",
    "    return im"
   ]
  },
  {
   "cell_type": "code",
   "execution_count": null,
   "id": "8975e23d-5096-468a-845a-23b5849c82e2",
   "metadata": {},
   "outputs": [],
   "source": [
    "#Read observations Adusumilli\n",
    "\n",
    "fname = '../../../data/adusumilli/bb0448974g_3_1.h5'\n",
    "hf = h5py.File(fname, 'r')\n",
    "xa = np.array(hf['/x'])[:,0]\n",
    "ya = np.array(hf['/y'])[:,0]\n",
    "melta = np.array(hf['/w_b'])\n",
    "\n",
    "\n",
    "data_vars = {'melt':(['y','x'],melta)}\n",
    "coords = {'x': (['x'], xa),'y': (['y'], ya)}\n",
    "\n",
    "dsa = xr.Dataset(data_vars=data_vars,coords=coords)\n",
    "dsa = dsa.isel(x=slice(500,2000),y=slice(6000,8000))\n",
    "dsa = add_lonlat(dsa)"
   ]
  },
  {
   "cell_type": "code",
   "execution_count": null,
   "id": "285d0653-d4d1-47c6-b353-ba089ba1c27b",
   "metadata": {},
   "outputs": [],
   "source": [
    "plt.style.use('style_paper')\n",
    "\n",
    "mpl.rc('figure.subplot',left=.01,right=.99,top=.95,bottom=.15,wspace=.05,hspace=.1)\n",
    "\n",
    "fig = plt.figure(figsize=(7,5.5))\n",
    "\n",
    "#Geometry\n",
    "\n",
    "ax = fig.add_subplot(131,projection=proj)\n",
    "makebackground(ax,axex)\n",
    "ax.set_extent(axex,crs=ccrs.PlateCarree())\n",
    "ax.set_title('a) Geometry \\n   (Morlighem ea. 2020 )',loc='left',fontsize=10)\n",
    "\n",
    "ds = xr.open_dataset('../../../data/BedMachineAntarctica_2020-07-15_v02.nc')\n",
    "ds = ds.isel(x=slice(x0,x1),y=slice(y0,y1))\n",
    "ds = add_lonlat(ds)\n",
    "\n",
    "im2 = ax.pcolormesh(ds.lon,ds.lat,np.where(ds.mask==3,ds.thickness,np.nan),cmap=cmap2,shading='nearest',transform=ccrs.PlateCarree(),vmin=0,vmax=1500)\n",
    "\n",
    "#add_zoom(ax,[axex2,axex3,axex4])\n",
    "\n",
    "#Obs\n",
    "ax = fig.add_subplot(132,projection=proj)\n",
    "makebackground(ax,axex)\n",
    "im = ax.pcolormesh(dsa.lon,dsa.lat,dsa.melt,shading='auto',cmap=mymap,norm=mpl.colors.SymLogNorm(linthresh, vmin=vmin, vmax=vmax, linscale=linscale),transform=ccrs.PlateCarree())\n",
    "ax.set_title('b) Remote sensing \\n   (Adusumilli ea. 2020)',loc='left',fontsize=10)\n",
    "\n",
    "#add_zoom(ax,[axex2,axex3,axex4])\n",
    "\n",
    "#cax = inset_axes(ax,width=\"5%\",height=\"100%\",loc='lower left',bbox_to_anchor=(1.05,0,1,1),bbox_transform=ax.transAxes,borderpad=0)\n",
    "#cb = plt.colorbar(im2,cax=cax)\n",
    "#cb.set_label('Ice shelf thickness [m]')\n",
    "\n",
    "#LADDIE\n",
    "ax = fig.add_subplot(133,projection=proj)\n",
    "\n",
    "ds = xr.open_dataset(f'../../results/LCIS_1.0_linear_S134.8_T1-1.5_050.nc')\n",
    "plotmelt(ax,ds.lon,ds.lat,np.where(ds.tmask,ds.melt,np.nan),'c) LADDIE model \\n   (Lambert ea., in prep)')\n",
    "\n",
    "ax = fig.add_subplot(111)\n",
    "ax.set_visible(False)\n",
    "cax = inset_axes(ax,width=\"33%\",height=\"5%\",loc='lower left',bbox_to_anchor=(0,-.08,1,1),bbox_transform=ax.transAxes,borderpad=0)\n",
    "cb = plt.colorbar(im2,cax=cax,orientation='horizontal')\n",
    "cb.set_label('Ice shelf thickness [m]')\n",
    "\n",
    "cax = inset_axes(ax,width=\"65%\",height=\"5%\",loc='lower left',bbox_to_anchor=(.35,-.08,1,1),bbox_transform=ax.transAxes,borderpad=0)\n",
    "ticks = [-10,-3,-1,-.3,0,.3,1,3,10,30,100]\n",
    "cb = plt.colorbar(im,cax=cax,orientation='horizontal',extend='both')\n",
    "cb.set_ticks(ticks)\n",
    "cb.set_ticklabels(ticks)\n",
    "cb.set_label('Basal freezing / melt rate [m yr$^{-1}$]')\n",
    "\n",
    "plt.savefig('../../figures/draftplot_LC_melt.png',dpi=450)"
   ]
  },
  {
   "cell_type": "code",
   "execution_count": null,
   "id": "7f218311-c51a-44e9-926d-a7c49d48089e",
   "metadata": {},
   "outputs": [],
   "source": []
  },
  {
   "cell_type": "code",
   "execution_count": null,
   "id": "8d02c72a-bdcb-4b88-beca-15cb61a56077",
   "metadata": {},
   "outputs": [],
   "source": []
  }
 ],
 "metadata": {
  "kernelspec": {
   "display_name": "Python 3.8.12 ('laddie')",
   "language": "python",
   "name": "python3"
  },
  "language_info": {
   "codemirror_mode": {
    "name": "ipython",
    "version": 3
   },
   "file_extension": ".py",
   "mimetype": "text/x-python",
   "name": "python",
   "nbconvert_exporter": "python",
   "pygments_lexer": "ipython3",
   "version": "3.8.12"
  },
  "vscode": {
   "interpreter": {
    "hash": "38a27636b36537651684dd7e48d915affeb1bbb6021558a98bbdecba35a3ba81"
   }
  }
 },
 "nbformat": 4,
 "nbformat_minor": 5
}
