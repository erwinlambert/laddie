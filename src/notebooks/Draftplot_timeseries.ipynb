{
 "cells": [
  {
   "cell_type": "code",
   "execution_count": 76,
   "id": "9368fd5b-8ffd-46a0-99b3-e5ff0e8d51e2",
   "metadata": {},
   "outputs": [
    {
     "name": "stdout",
     "output_type": "stream",
     "text": [
      "The autoreload extension is already loaded. To reload it, use:\n",
      "  %reload_ext autoreload\n"
     ]
    }
   ],
   "source": [
    "import numpy as np\n",
    "import xarray as xr\n",
    "import matplotlib as mpl\n",
    "import matplotlib.pyplot as plt\n",
    "import cmocean as cmo\n",
    "from mpl_toolkits.axes_grid1 import make_axes_locatable\n",
    "from mpl_toolkits.axes_grid1.inset_locator import inset_axes\n",
    "from scipy.stats import linregress\n",
    "\n",
    "import sys\n",
    "sys.path.append('../')\n",
    "\n",
    "from geometry import Geometry\n",
    "from forcing import Forcing\n",
    "from layer import LayerModel\n",
    "\n",
    "import warnings\n",
    "warnings.filterwarnings('ignore')\n",
    "\n",
    "np.set_printoptions(precision=2)\n",
    "\n",
    "np.seterr(all='ignore')\n",
    "%matplotlib inline\n",
    "%config InlineBackend.print_figure_kwargs={'bbox_inches':None}\n",
    "%load_ext autoreload\n",
    "%autoreload 2"
   ]
  },
  {
   "cell_type": "code",
   "execution_count": 77,
   "id": "4e74d503-2b37-4cce-8e3f-a5396c7ae739",
   "metadata": {},
   "outputs": [],
   "source": [
    "years = np.arange(1956,1991)\n",
    "x1,x2 = 245.4-360,246.2-360\n",
    "y1,y2 = -75.13,-74.85\n",
    "\n",
    "N = 3\n",
    "ress = ['0.5','1.0','2.0']\n",
    "tpers = [15,25,25]\n",
    "\n",
    "cols = ['teal','darkgoldenrod','firebrick']"
   ]
  },
  {
   "cell_type": "code",
   "execution_count": 167,
   "id": "af778c2b-1354-4ccc-912b-e1e7e3c0abdc",
   "metadata": {
    "tags": []
   },
   "outputs": [
    {
     "name": "stdout",
     "output_type": "stream",
     "text": [
      "1966 6.9953137451879535 7.013263224015825 7.06169249868809 nan\n",
      "1966 6.995313745187954 26.830343218683257 27.18756393733293 nan\n"
     ]
    }
   ],
   "source": [
    "\n",
    "\n",
    "#MITgcm\n",
    "\n",
    "ds = xr.open_dataset('../../../data/paulholland/melt.nc')\n",
    "ds = ds.sel(LONGITUDE=slice(360-114.7,360-109),LATITUDE=slice(-75.3,-74.1))#,TIME=timep)\n",
    "melt = xr.where(ds.melt==0,np.nan,ds.melt)\n",
    "melt = melt.mean(dim=['LONGITUDE','LATITUDE'],skipna=True)\n",
    "MCD = np.zeros(len(years))\n",
    "for y,yy in enumerate(years):\n",
    "    MCD[y] = melt.sel(TIME=slice(f\"{yy}-1-1\",f\"{yy}-12-31\")).mean()\n",
    "ds.close()\n",
    "\n",
    "ds = xr.open_dataset('../../../data/paulholland/melt.nc')\n",
    "ds = ds.sel(LONGITUDE=slice(360-114.7,360-109),LATITUDE=slice(-75.3+.05,-74.1+.05))#,TIME=timep)\n",
    "lon = (ds.LONGITUDE - 360.).values\n",
    "lat = (ds.LATITUDE - .05).values\n",
    "llon,llat = np.meshgrid(lon,lat)\n",
    "MKW = np.zeros(len(years))\n",
    "for y,yy in enumerate(years):\n",
    "    mmelt = ds.melt.sel(TIME=slice(f\"{yy}-1-1\",f\"{yy}-12-31\")).mean(dim='TIME')\n",
    "    melt = xr.where(mmelt==0,np.nan,mmelt)\n",
    "    melt = melt.mean(dim=['LONGITUDE','LATITUDE'],skipna=True)\n",
    "    melt = np.where(llon<x2,melt,np.nan)\n",
    "    melt = np.where(llat<y2,melt,np.nan)\n",
    "    MKW[y] = np.nanmean(melt)\n",
    "ds.close()\n",
    "    \n",
    "MCDl = {}\n",
    "MKWl = {}\n",
    "for r,res in enumerate(ress):\n",
    "    MCDl[res] = np.nan*np.zeros(len(years))\n",
    "    MKWl[res] = np.nan*np.zeros(len(years))\n",
    "    for y,yy in enumerate(years):\n",
    "        try:\n",
    "            ds = xr.open_dataset(f'../../results/CrossDots_{res}_mitgcm_{yy}_{yy}_{tpers[r]:03.0f}.nc')\n",
    "            MCDl[res][y] = np.nanmean(np.where(ds.tmask==1,ds.melt,np.nan))\n",
    "            melt = ds.melt.copy()\n",
    "            melt = xr.where(ds.lon<x2,melt,np.nan)\n",
    "            melt = xr.where(ds.lat<y2,melt,np.nan)\n",
    "            MKWl[res][y] = np.nanmean(np.where(ds.tmask==1,melt,np.nan))            \n",
    "            ds.close()\n",
    "        except:\n",
    "            pass\n",
    "\n",
    "idx = np.argmin((MCD-np.median(MCD))**2)\n",
    "print(years[idx],MCD[idx],MCDl['2.0'][idx],MCDl['1.0'][idx],MCDl['0.5'][idx])\n",
    "print(years[idx],MKW[idx],MKWl['2.0'][idx],MKWl['1.0'][idx],MKWl['0.5'][idx])"
   ]
  },
  {
   "cell_type": "code",
   "execution_count": 168,
   "id": "15e69c1f-7930-4c1f-b02e-4d6b54dfaf23",
   "metadata": {
    "tags": []
   },
   "outputs": [
    {
     "data": {
      "image/png": "[encoded data removed]",
      "text/plain": [
       "<Figure size 504x216 with 2 Axes>"
      ]
     },
     "metadata": {
      "needs_background": "light"
     },
     "output_type": "display_data"
    }
   ],
   "source": [
    "plt.style.use('style_paper')\n",
    "\n",
    "mpl.rc('figure.subplot',left=.1,right=.95,top=.9,bottom=.2,wspace=.1,hspace=.1)\n",
    "\n",
    "fig,ax = plt.subplots(1,2,figsize=(7,3),sharey=True)\n",
    "\n",
    "ax[0].plot(years,MCD,color='.5',label='MITgcm',zorder=0)\n",
    "ax[1].plot(years,MKW,color='.5',label='MITgcm',zorder=0)\n",
    "\n",
    "#Layer\n",
    "\n",
    "for r,res in enumerate(ress):\n",
    "    if res in ['0.5','1.0']:\n",
    "        ax[0].scatter(years,MCDl[res],20,color=cols[r])\n",
    "        ax[1].scatter(years,MKWl[res],20,color=cols[r])\n",
    "    ax[0].plot(years,MCDl[res],c=cols[r],label=f'{res}km',lw=1)\n",
    "    ax[1].plot(years,MKWl[res],c=cols[r],label=f'{res}km',lw=1)\n",
    "    \n",
    "    \n",
    "ax[0].legend(ncol=2,loc='upper right')\n",
    "ax[0].set_title('a) Crosson Dotson',loc='left')\n",
    "ax[0].set_ylabel('Average basal melt rate [m/yr]')\n",
    "\n",
    "ax[1].set_title('b) Kohler West region',loc='left')\n",
    "\n",
    "ax[0].set_xlabel('Year')\n",
    "ax[1].set_xlabel('Year')\n",
    "\n",
    "ax[0].set_ylim([0,35])\n",
    "plt.savefig('../../figures/draftplot_timeseries.png',dpi=450)"
   ]
  },
  {
   "cell_type": "code",
   "execution_count": 169,
   "id": "8d2231ea-187c-4fd3-ab0e-0e30fc4ac2b7",
   "metadata": {},
   "outputs": [
    {
     "name": "stdout",
     "output_type": "stream",
     "text": [
      "MITgcm    slope: 1.00 rval: 1.00\n",
      "Layer 0.5 slope: nan rval: nan\n",
      "Layer 1.0 slope: 2.43 rval: 0.84\n",
      "Layer 2.0 slope: 2.50 rval: 0.84\n",
      "-------\n",
      "MITgcm    slope: 0.73 rval: 0.72\n",
      "Layer 0.5 slope: nan rval: nan\n",
      "Layer 1.0 slope: 2.45 rval: 0.86\n",
      "Layer 2.0 slope: 2.51 rval: 0.86\n"
     ]
    },
    {
     "data": {
      "image/png": "[encoded data removed]",
      "text/plain": [
       "<Figure size 504x288 with 2 Axes>"
      ]
     },
     "metadata": {
      "needs_background": "light"
     },
     "output_type": "display_data"
    }
   ],
   "source": [
    "fig,ax = plt.subplots(1,2,figsize=(7,4),sharey=True)\n",
    "\n",
    "ax[0].scatter(MCD,MKW,15,color='.5')\n",
    "out = linregress(MCD,MKW)\n",
    "print(f'MITgcm    slope: {out.slope:.2f} rval: {out.rvalue:.2f}')\n",
    "\n",
    "for r,res in enumerate(ress):\n",
    "    ax[0].scatter(MCDl[res],MKWl[res],15,color=cols[r])\n",
    "    out = linregress(MCDl[res],MKWl[res])\n",
    "    print(f'Layer {res} slope: {out.slope:.2f} rval: {out.rvalue:.2f}')\n",
    "\n",
    "print('-------')\n",
    "\n",
    "ax[1].scatter(MCD[:-1],MKW[1:],15,color='.5')\n",
    "out = linregress(MCD[:-1],MKW[1:])\n",
    "print(f'MITgcm    slope: {out.slope:.2f} rval: {out.rvalue:.2f}')\n",
    "\n",
    "for r,res in enumerate(ress):\n",
    "    ax[1].scatter(MCDl[res][:-1],MKWl[res][1:],15,color=cols[r])\n",
    "    out = linregress(MCDl[res][:-1],MKWl[res][1:])\n",
    "    print(f'Layer {res} slope: {out.slope:.2f} rval: {out.rvalue:.2f}')\n",
    "\n",
    "ax[0].set_title('No lag')\n",
    "ax[1].set_title('1 year lag')\n",
    "ax[0].set_ylabel('Kohler West melt [m/yr]')\n",
    "\n",
    "fig.supxlabel('Crosson Dotson melt [m/yr]');"
   ]
  },
  {
   "cell_type": "code",
   "execution_count": null,
   "id": "975eeacc-d0d5-466b-910b-e79569704df8",
   "metadata": {},
   "outputs": [],
   "source": []
  }
 ],
 "metadata": {
  "kernelspec": {
   "display_name": "Python 3 (ipykernel)",
   "language": "python",
   "name": "python3"
  },
  "language_info": {
   "codemirror_mode": {
    "name": "ipython",
    "version": 3
   },
   "file_extension": ".py",
   "mimetype": "text/x-python",
   "name": "python",
   "nbconvert_exporter": "python",
   "pygments_lexer": "ipython3",
   "version": "3.8.12"
  }
 },
 "nbformat": 4,
 "nbformat_minor": 5
}
