{
 "cells": [
  {
   "cell_type": "code",
   "execution_count": 1,
   "metadata": {},
   "outputs": [],
   "source": [
    "import numpy as np\n",
    "import h5py\n",
    "import xarray as xr\n",
    "import pyproj\n",
    "import matplotlib as mpl\n",
    "import matplotlib.pyplot as plt\n",
    "import cmocean as cmo\n",
    "from mpl_toolkits.axes_grid1 import make_axes_locatable\n",
    "from mpl_toolkits.axes_grid1.inset_locator import inset_axes\n",
    "import cartopy\n",
    "import cartopy.crs as ccrs\n",
    "#import string\n",
    "\n",
    "import sys\n",
    "sys.path.append('../')\n",
    "\n",
    "from plotfunctions import add_lonlat\n",
    "\n",
    "np.seterr(all='ignore')\n",
    "%matplotlib inline\n",
    "%config InlineBackend.print_figure_kwargs={'bbox_inches':None}\n",
    "%load_ext autoreload\n",
    "%autoreload 2"
   ]
  },
  {
   "cell_type": "code",
   "execution_count": 2,
   "metadata": {},
   "outputs": [],
   "source": [
    "cmap1 = mpl.colors.ListedColormap(plt.get_cmap('cmo.deep_r')(np.linspace(0,.4,255)))\n",
    "cmap2 = 'cmo.rain'\n",
    "cmap3 = mpl.colors.ListedColormap(plt.get_cmap('cmo.gray')(np.linspace(.2,.6,255)))\n",
    "\n",
    "x0,x1 = 4100,4400\n"
   ]
  },
  {
   "cell_type": "code",
   "execution_count": 3,
   "metadata": {},
   "outputs": [],
   "source": [
    "vmax = 100\n",
    "vmin = -10\n",
    "linthresh=1\n",
    "linscale=.2\n",
    "\n",
    "vmax = 100\n",
    "vmin = -10\n",
    "linthresh = .3\n",
    "linscale = .25\n",
    "\n",
    "\n",
    "fracpos = (np.log10(vmax/linthresh)+linscale)/(np.log10(vmax/linthresh)+np.log10(-(vmin/linthresh))+2*linscale)\n",
    "#print(fracpos)\n",
    "nneg = np.int_((1-fracpos)*256)\n",
    "\n",
    "colors1 = plt.get_cmap('cmo.ice_r')(np.linspace(0,.9,nneg))\n",
    "colors2 = plt.cm.inferno(np.linspace(0.1, 1, 256-nneg))\n",
    "\n",
    "# combine them and build a new colormap\n",
    "colors = np.vstack((colors1, colors2))\n",
    "mymap = mpl.colors.LinearSegmentedColormap.from_list('my_colormap', colors)"
   ]
  },
  {
   "cell_type": "code",
   "execution_count": 4,
   "metadata": {},
   "outputs": [],
   "source": [
    "#Read observations Adusumilli\n",
    "\n",
    "fname = '../../../data/adusumilli/bb0448974g_3_1.h5'\n",
    "hf = h5py.File(fname, 'r')\n",
    "xa = np.array(hf['/x'])[:,0]\n",
    "ya = np.array(hf['/y'])[:,0]\n",
    "melta = np.array(hf['/w_b'])\n",
    "\n",
    "\n",
    "data_vars = {'melt':(['y','x'],melta)}\n",
    "coords = {'x': (['x'], xa),'y': (['y'], ya)}\n",
    "\n",
    "dsa = xr.Dataset(data_vars=data_vars,coords=coords)\n",
    "dsa = dsa.isel(x=slice(2000,5000),y=slice(4500,7000))\n",
    "dsa = add_lonlat(dsa)"
   ]
  },
  {
   "cell_type": "code",
   "execution_count": 47,
   "metadata": {},
   "outputs": [
    {
     "name": "stdout",
     "output_type": "stream",
     "text": [
      "<xarray.DataArray 'melt' ()>\n",
      "array(-0.001966)\n",
      "Coordinates:\n",
      "    y        int32 623750\n",
      "    x        int32 -1032750\n",
      "    lat      float64 ...\n",
      "    lon      float64 ...\n",
      "[-82.50558665]\n",
      "<xarray.DataArray 'melt' ()>\n",
      "array(-0.001966)\n",
      "Coordinates:\n",
      "    y        int32 623750\n",
      "    x        int32 -1032750\n",
      "    lat      float64 ...\n",
      "    lon      float64 ...\n",
      "[-81.84801232]\n",
      "<xarray.DataArray 'melt' ()>\n",
      "array(-0.001966)\n",
      "Coordinates:\n",
      "    y        int32 623750\n",
      "    x        int32 -1032750\n",
      "    lat      float64 ...\n",
      "    lon      float64 ...\n",
      "[-80.97462647]\n"
     ]
    },
    {
     "data": {
      "text/plain": [
       "<Figure size 504x324 with 0 Axes>"
      ]
     },
     "metadata": {},
     "output_type": "display_data"
    },
    {
     "data": {
      "image/png": "[encoded data removed]",
      "text/plain": [
       "<Figure size 504x288 with 6 Axes>"
      ]
     },
     "metadata": {
      "needs_background": "light"
     },
     "output_type": "display_data"
    }
   ],
   "source": [
    "plt.style.use('style_paper')\n",
    "\n",
    "#mpl.rc('figure.subplot',left=.01,right=.98,top=.95,bottom=.15,wspace=.05,hspace=.2)\n",
    "#mpl.rc('text',usetex=False)\n",
    "fig = plt.figure(figsize=(7,4.5))\n",
    "\n",
    "fig,ax = plt.subplots(2,3,figsize=(7,4),sharey='row',sharex=True)\n",
    "\n",
    "for aa,yy in enumerate([6330,6300,6260]):\n",
    "\n",
    "    #Geometry\n",
    "    ds = xr.open_dataset('../../../data/BedMachineAntarctica_2020-07-15_v02.nc')\n",
    "    ds = ds.isel(x=slice(x0,x1),y=slice(yy,yy+1))\n",
    "    ds = add_lonlat(ds)\n",
    "\n",
    "    xarr = .5*(len(ds.y)-np.arange(0,len(ds.y)))\n",
    "\n",
    "    dax = ax[0,aa]\n",
    "    #dax.plot(ds.lon,ds.surface,c='.8')\n",
    "    #dax.plot(ds.lon,0*ds.y,'--',c='.5',lw=.5)\n",
    "    dax.plot(-ds.lat,ds.surface-ds.thickness)\n",
    "    dax.fill_between(-ds.lat[0,:],-2000+0*ds.y,ds.bed[0,:],color='.7',zorder=10)\n",
    "    dax.fill_between(-ds.lat[0,:],ds.bed[0,:],(ds.surface-ds.thickness)[0,:],color='tab:blue')\n",
    "    dax.fill_between(-ds.lat[0,:],ds.surface[0,:],800+0*ds.y,color='skyblue')\n",
    "\n",
    "    ds2 = xr.open_dataset(f'../../results/FRIS_1.0_linear_S134.8_T1-2.3_720.nc')\n",
    "    x02 = ds.x.values[0]\n",
    "    x12 = ds.x.values[-1]\n",
    "    yy2 = ds.y.values[0]\n",
    "    print(ds2.melt[500,500])\n",
    "\n",
    "    ds2 = ds2.sel(x=slice(x02,x12),y=slice(yy2,yy2+1000))\n",
    "    #ds2 = add_lonlat(ds2)\n",
    "    \n",
    "\n",
    "    dax = ax[1,aa]\n",
    "    dax.plot(ds2.lon.values.T,ds2.melt.values.T,label='LADDIE')\n",
    "    print(ds2.lon.values.T[0])\n",
    "    #dax.plot(dsa.lon,dsa.melt,label='Observations')\n",
    "    #dax.legend()\n",
    "\n",
    "\n",
    "ax[0,0].set_xlim([78.4,79.2])\n",
    "ax[0,0].set_ylim([-2000,500])\n",
    "\n",
    "'''\n",
    "for a in [0,1]:\n",
    "    ax[a,0].axvline(-113.4,0,1,c='.5')\n",
    "    ax[a,0].axvline(-113.1,0,1,c='k')\n",
    "    ax[a,1].axvline(-113.22,0,1,c='.5')\n",
    "    ax[a,1].axvline(-113.0,0,1,c='k')\n",
    "    ax[a,2].axvline(-113.18,0,1,c='.5')\n",
    "    ax[a,2].axvline(-113.0,0,1,c='k')\n",
    "\n",
    "ax[0,0].axvline(-113.4,0,1,c='.5',label='Coastal Ch.')\n",
    "ax[0,0].axvline(-113.1,0,1,c='k',label='Dotson Ch.')\n",
    "\n",
    "ax[0,0].set_ylabel('Depth [m]')\n",
    "ax[1,0].set_ylabel(r'Melt rate [m yr$^{-1}$')\n",
    "#ax[0,0].set_xlim([-113.5,-112.3])\n",
    "#ax[0,0].set_ylim([-500,100])\n",
    "ax[1,0].set_ylim([0,30])\n",
    "ax[1,1].set_xlabel(r\"Longitude [$^{\\circ}$E]\")\n",
    "\n",
    "ax[0,0].set_title('Section A')\n",
    "ax[0,1].set_title('Section B')\n",
    "ax[0,2].set_title('Section C')\n",
    "\n",
    "#ax[0,0].legend()\n",
    "#ax[1,0].legend()\n",
    "'''\n",
    "plt.savefig('../../figures/draftplot_FR_section.png',dpi=450)\n"
   ]
  },
  {
   "cell_type": "code",
   "execution_count": 20,
   "metadata": {},
   "outputs": [
    {
     "name": "stderr",
     "output_type": "stream",
     "text": [
      "/tmp/ipykernel_1769843/1821146754.py:10: MatplotlibDeprecationWarning: shading='flat' when X and Y have the same dimensions as C is deprecated since 3.3.  Either specify the corners of the quadrilaterals with X and Y, or pass shading='auto', 'nearest' or 'gouraud', or set rcParams['pcolor.shading'].  This will become an error two minor releases later.\n",
      "  plt.pcolormesh(ds2.x,ds2.y,ds2.melt)\n"
     ]
    },
    {
     "ename": "ValueError",
     "evalue": "zero-size array to reduction operation minimum which has no identity",
     "output_type": "error",
     "traceback": [
      "\u001b[0;31m---------------------------------------------------------------------------\u001b[0m",
      "\u001b[0;31mValueError\u001b[0m                                Traceback (most recent call last)",
      "\u001b[0;32m/tmp/ipykernel_1769843/1821146754.py\u001b[0m in \u001b[0;36m<module>\u001b[0;34m\u001b[0m\n\u001b[1;32m      8\u001b[0m \u001b[0mds2\u001b[0m \u001b[0;34m=\u001b[0m \u001b[0mxr\u001b[0m\u001b[0;34m.\u001b[0m\u001b[0mopen_dataset\u001b[0m\u001b[0;34m(\u001b[0m\u001b[0;34mf'../../results/FRIS_1.0_linear_S134.8_T1-2.3_720.nc'\u001b[0m\u001b[0;34m)\u001b[0m\u001b[0;34m\u001b[0m\u001b[0;34m\u001b[0m\u001b[0m\n\u001b[1;32m      9\u001b[0m \u001b[0mds2\u001b[0m \u001b[0;34m=\u001b[0m \u001b[0mds2\u001b[0m\u001b[0;34m.\u001b[0m\u001b[0msel\u001b[0m\u001b[0;34m(\u001b[0m\u001b[0mx\u001b[0m\u001b[0;34m=\u001b[0m\u001b[0mslice\u001b[0m\u001b[0;34m(\u001b[0m\u001b[0mx02\u001b[0m\u001b[0;34m,\u001b[0m\u001b[0mx12\u001b[0m\u001b[0;34m)\u001b[0m\u001b[0;34m,\u001b[0m\u001b[0my\u001b[0m\u001b[0;34m=\u001b[0m\u001b[0mslice\u001b[0m\u001b[0;34m(\u001b[0m\u001b[0myy2\u001b[0m\u001b[0;34m,\u001b[0m\u001b[0myy2\u001b[0m\u001b[0;34m)\u001b[0m\u001b[0;34m)\u001b[0m\u001b[0;34m\u001b[0m\u001b[0;34m\u001b[0m\u001b[0m\n\u001b[0;32m---> 10\u001b[0;31m \u001b[0mplt\u001b[0m\u001b[0;34m.\u001b[0m\u001b[0mpcolormesh\u001b[0m\u001b[0;34m(\u001b[0m\u001b[0mds2\u001b[0m\u001b[0;34m.\u001b[0m\u001b[0mx\u001b[0m\u001b[0;34m,\u001b[0m\u001b[0mds2\u001b[0m\u001b[0;34m.\u001b[0m\u001b[0my\u001b[0m\u001b[0;34m,\u001b[0m\u001b[0mds2\u001b[0m\u001b[0;34m.\u001b[0m\u001b[0mmelt\u001b[0m\u001b[0;34m)\u001b[0m\u001b[0;34m\u001b[0m\u001b[0;34m\u001b[0m\u001b[0m\n\u001b[0m",
      "\u001b[0;32m/nobackup/users/lambert/miniconda3/envs/laddie/lib/python3.8/site-packages/matplotlib/pyplot.py\u001b[0m in \u001b[0;36mpcolormesh\u001b[0;34m(alpha, norm, cmap, vmin, vmax, shading, antialiased, data, *args, **kwargs)\u001b[0m\n\u001b[1;32m   2978\u001b[0m         \u001b[0mvmax\u001b[0m\u001b[0;34m=\u001b[0m\u001b[0;32mNone\u001b[0m\u001b[0;34m,\u001b[0m \u001b[0mshading\u001b[0m\u001b[0;34m=\u001b[0m\u001b[0;32mNone\u001b[0m\u001b[0;34m,\u001b[0m \u001b[0mantialiased\u001b[0m\u001b[0;34m=\u001b[0m\u001b[0;32mFalse\u001b[0m\u001b[0;34m,\u001b[0m \u001b[0mdata\u001b[0m\u001b[0;34m=\u001b[0m\u001b[0;32mNone\u001b[0m\u001b[0;34m,\u001b[0m\u001b[0;34m\u001b[0m\u001b[0;34m\u001b[0m\u001b[0m\n\u001b[1;32m   2979\u001b[0m         **kwargs):\n\u001b[0;32m-> 2980\u001b[0;31m     __ret = gca().pcolormesh(\n\u001b[0m\u001b[1;32m   2981\u001b[0m         \u001b[0;34m*\u001b[0m\u001b[0margs\u001b[0m\u001b[0;34m,\u001b[0m \u001b[0malpha\u001b[0m\u001b[0;34m=\u001b[0m\u001b[0malpha\u001b[0m\u001b[0;34m,\u001b[0m \u001b[0mnorm\u001b[0m\u001b[0;34m=\u001b[0m\u001b[0mnorm\u001b[0m\u001b[0;34m,\u001b[0m \u001b[0mcmap\u001b[0m\u001b[0;34m=\u001b[0m\u001b[0mcmap\u001b[0m\u001b[0;34m,\u001b[0m \u001b[0mvmin\u001b[0m\u001b[0;34m=\u001b[0m\u001b[0mvmin\u001b[0m\u001b[0;34m,\u001b[0m\u001b[0;34m\u001b[0m\u001b[0;34m\u001b[0m\u001b[0m\n\u001b[1;32m   2982\u001b[0m         \u001b[0mvmax\u001b[0m\u001b[0;34m=\u001b[0m\u001b[0mvmax\u001b[0m\u001b[0;34m,\u001b[0m \u001b[0mshading\u001b[0m\u001b[0;34m=\u001b[0m\u001b[0mshading\u001b[0m\u001b[0;34m,\u001b[0m \u001b[0mantialiased\u001b[0m\u001b[0;34m=\u001b[0m\u001b[0mantialiased\u001b[0m\u001b[0;34m,\u001b[0m\u001b[0;34m\u001b[0m\u001b[0;34m\u001b[0m\u001b[0m\n",
      "\u001b[0;32m/nobackup/users/lambert/miniconda3/envs/laddie/lib/python3.8/site-packages/matplotlib/__init__.py\u001b[0m in \u001b[0;36minner\u001b[0;34m(ax, data, *args, **kwargs)\u001b[0m\n\u001b[1;32m   1359\u001b[0m     \u001b[0;32mdef\u001b[0m \u001b[0minner\u001b[0m\u001b[0;34m(\u001b[0m\u001b[0max\u001b[0m\u001b[0;34m,\u001b[0m \u001b[0;34m*\u001b[0m\u001b[0margs\u001b[0m\u001b[0;34m,\u001b[0m \u001b[0mdata\u001b[0m\u001b[0;34m=\u001b[0m\u001b[0;32mNone\u001b[0m\u001b[0;34m,\u001b[0m \u001b[0;34m**\u001b[0m\u001b[0mkwargs\u001b[0m\u001b[0;34m)\u001b[0m\u001b[0;34m:\u001b[0m\u001b[0;34m\u001b[0m\u001b[0;34m\u001b[0m\u001b[0m\n\u001b[1;32m   1360\u001b[0m         \u001b[0;32mif\u001b[0m \u001b[0mdata\u001b[0m \u001b[0;32mis\u001b[0m \u001b[0;32mNone\u001b[0m\u001b[0;34m:\u001b[0m\u001b[0;34m\u001b[0m\u001b[0;34m\u001b[0m\u001b[0m\n\u001b[0;32m-> 1361\u001b[0;31m             \u001b[0;32mreturn\u001b[0m \u001b[0mfunc\u001b[0m\u001b[0;34m(\u001b[0m\u001b[0max\u001b[0m\u001b[0;34m,\u001b[0m \u001b[0;34m*\u001b[0m\u001b[0mmap\u001b[0m\u001b[0;34m(\u001b[0m\u001b[0msanitize_sequence\u001b[0m\u001b[0;34m,\u001b[0m \u001b[0margs\u001b[0m\u001b[0;34m)\u001b[0m\u001b[0;34m,\u001b[0m \u001b[0;34m**\u001b[0m\u001b[0mkwargs\u001b[0m\u001b[0;34m)\u001b[0m\u001b[0;34m\u001b[0m\u001b[0;34m\u001b[0m\u001b[0m\n\u001b[0m\u001b[1;32m   1362\u001b[0m \u001b[0;34m\u001b[0m\u001b[0m\n\u001b[1;32m   1363\u001b[0m         \u001b[0mbound\u001b[0m \u001b[0;34m=\u001b[0m \u001b[0mnew_sig\u001b[0m\u001b[0;34m.\u001b[0m\u001b[0mbind\u001b[0m\u001b[0;34m(\u001b[0m\u001b[0max\u001b[0m\u001b[0;34m,\u001b[0m \u001b[0;34m*\u001b[0m\u001b[0margs\u001b[0m\u001b[0;34m,\u001b[0m \u001b[0;34m**\u001b[0m\u001b[0mkwargs\u001b[0m\u001b[0;34m)\u001b[0m\u001b[0;34m\u001b[0m\u001b[0;34m\u001b[0m\u001b[0m\n",
      "\u001b[0;32m/nobackup/users/lambert/miniconda3/envs/laddie/lib/python3.8/site-packages/matplotlib/axes/_axes.py\u001b[0m in \u001b[0;36mpcolormesh\u001b[0;34m(self, alpha, norm, cmap, vmin, vmax, shading, antialiased, *args, **kwargs)\u001b[0m\n\u001b[1;32m   6215\u001b[0m         \u001b[0mself\u001b[0m\u001b[0;34m.\u001b[0m\u001b[0madd_collection\u001b[0m\u001b[0;34m(\u001b[0m\u001b[0mcollection\u001b[0m\u001b[0;34m,\u001b[0m \u001b[0mautolim\u001b[0m\u001b[0;34m=\u001b[0m\u001b[0;32mFalse\u001b[0m\u001b[0;34m)\u001b[0m\u001b[0;34m\u001b[0m\u001b[0;34m\u001b[0m\u001b[0m\n\u001b[1;32m   6216\u001b[0m \u001b[0;34m\u001b[0m\u001b[0m\n\u001b[0;32m-> 6217\u001b[0;31m         \u001b[0mminx\u001b[0m\u001b[0;34m,\u001b[0m \u001b[0mminy\u001b[0m \u001b[0;34m=\u001b[0m \u001b[0mnp\u001b[0m\u001b[0;34m.\u001b[0m\u001b[0mmin\u001b[0m\u001b[0;34m(\u001b[0m\u001b[0mcoords\u001b[0m\u001b[0;34m,\u001b[0m \u001b[0maxis\u001b[0m\u001b[0;34m=\u001b[0m\u001b[0;36m0\u001b[0m\u001b[0;34m)\u001b[0m\u001b[0;34m\u001b[0m\u001b[0;34m\u001b[0m\u001b[0m\n\u001b[0m\u001b[1;32m   6218\u001b[0m         \u001b[0mmaxx\u001b[0m\u001b[0;34m,\u001b[0m \u001b[0mmaxy\u001b[0m \u001b[0;34m=\u001b[0m \u001b[0mnp\u001b[0m\u001b[0;34m.\u001b[0m\u001b[0mmax\u001b[0m\u001b[0;34m(\u001b[0m\u001b[0mcoords\u001b[0m\u001b[0;34m,\u001b[0m \u001b[0maxis\u001b[0m\u001b[0;34m=\u001b[0m\u001b[0;36m0\u001b[0m\u001b[0;34m)\u001b[0m\u001b[0;34m\u001b[0m\u001b[0;34m\u001b[0m\u001b[0m\n\u001b[1;32m   6219\u001b[0m         \u001b[0mcollection\u001b[0m\u001b[0;34m.\u001b[0m\u001b[0msticky_edges\u001b[0m\u001b[0;34m.\u001b[0m\u001b[0mx\u001b[0m\u001b[0;34m[\u001b[0m\u001b[0;34m:\u001b[0m\u001b[0;34m]\u001b[0m \u001b[0;34m=\u001b[0m \u001b[0;34m[\u001b[0m\u001b[0mminx\u001b[0m\u001b[0;34m,\u001b[0m \u001b[0mmaxx\u001b[0m\u001b[0;34m]\u001b[0m\u001b[0;34m\u001b[0m\u001b[0;34m\u001b[0m\u001b[0m\n",
      "\u001b[0;32m<__array_function__ internals>\u001b[0m in \u001b[0;36mamin\u001b[0;34m(*args, **kwargs)\u001b[0m\n",
      "\u001b[0;32m/nobackup/users/lambert/miniconda3/envs/laddie/lib/python3.8/site-packages/numpy/core/fromnumeric.py\u001b[0m in \u001b[0;36mamin\u001b[0;34m(a, axis, out, keepdims, initial, where)\u001b[0m\n\u001b[1;32m   2877\u001b[0m     \u001b[0;36m6\u001b[0m\u001b[0;34m\u001b[0m\u001b[0;34m\u001b[0m\u001b[0m\n\u001b[1;32m   2878\u001b[0m     \"\"\"\n\u001b[0;32m-> 2879\u001b[0;31m     return _wrapreduction(a, np.minimum, 'min', axis, None, out,\n\u001b[0m\u001b[1;32m   2880\u001b[0m                           keepdims=keepdims, initial=initial, where=where)\n\u001b[1;32m   2881\u001b[0m \u001b[0;34m\u001b[0m\u001b[0m\n",
      "\u001b[0;32m/nobackup/users/lambert/miniconda3/envs/laddie/lib/python3.8/site-packages/numpy/core/fromnumeric.py\u001b[0m in \u001b[0;36m_wrapreduction\u001b[0;34m(obj, ufunc, method, axis, dtype, out, **kwargs)\u001b[0m\n\u001b[1;32m     84\u001b[0m                 \u001b[0;32mreturn\u001b[0m \u001b[0mreduction\u001b[0m\u001b[0;34m(\u001b[0m\u001b[0maxis\u001b[0m\u001b[0;34m=\u001b[0m\u001b[0maxis\u001b[0m\u001b[0;34m,\u001b[0m \u001b[0mout\u001b[0m\u001b[0;34m=\u001b[0m\u001b[0mout\u001b[0m\u001b[0;34m,\u001b[0m \u001b[0;34m**\u001b[0m\u001b[0mpasskwargs\u001b[0m\u001b[0;34m)\u001b[0m\u001b[0;34m\u001b[0m\u001b[0;34m\u001b[0m\u001b[0m\n\u001b[1;32m     85\u001b[0m \u001b[0;34m\u001b[0m\u001b[0m\n\u001b[0;32m---> 86\u001b[0;31m     \u001b[0;32mreturn\u001b[0m \u001b[0mufunc\u001b[0m\u001b[0;34m.\u001b[0m\u001b[0mreduce\u001b[0m\u001b[0;34m(\u001b[0m\u001b[0mobj\u001b[0m\u001b[0;34m,\u001b[0m \u001b[0maxis\u001b[0m\u001b[0;34m,\u001b[0m \u001b[0mdtype\u001b[0m\u001b[0;34m,\u001b[0m \u001b[0mout\u001b[0m\u001b[0;34m,\u001b[0m \u001b[0;34m**\u001b[0m\u001b[0mpasskwargs\u001b[0m\u001b[0;34m)\u001b[0m\u001b[0;34m\u001b[0m\u001b[0;34m\u001b[0m\u001b[0m\n\u001b[0m\u001b[1;32m     87\u001b[0m \u001b[0;34m\u001b[0m\u001b[0m\n\u001b[1;32m     88\u001b[0m \u001b[0;34m\u001b[0m\u001b[0m\n",
      "\u001b[0;31mValueError\u001b[0m: zero-size array to reduction operation minimum which has no identity"
     ]
    },
    {
     "data": {
      "image/png": "[encoded data removed]",
      "text/plain": [
       "<Figure size 504x360 with 1 Axes>"
      ]
     },
     "metadata": {
      "needs_background": "light"
     },
     "output_type": "display_data"
    }
   ],
   "source": [
    "yy = 6300\n",
    "ds = xr.open_dataset('../../../data/BedMachineAntarctica_2020-07-15_v02.nc')\n",
    "ds = ds.isel(x=slice(x0,x1),y=slice(yy,yy+1))\n",
    "\n",
    "x02 = ds.x.values[0]\n",
    "x12 = ds.x.values[-1]\n",
    "yy2 = ds.y.values[0]\n",
    "ds2 = xr.open_dataset(f'../../results/FRIS_1.0_linear_S134.8_T1-2.3_720.nc')\n",
    "ds2 = ds2.sel(x=slice(x02,x12),y=slice(yy2,yy2))\n",
    "plt.pcolormesh(ds2.x,ds2.y,ds2.melt)"
   ]
  },
  {
   "cell_type": "code",
   "execution_count": 46,
   "metadata": {},
   "outputs": [
    {
     "name": "stderr",
     "output_type": "stream",
     "text": [
      "/tmp/ipykernel_1769843/3256299123.py:4: MatplotlibDeprecationWarning: shading='flat' when X and Y have the same dimensions as C is deprecated since 3.3.  Either specify the corners of the quadrilaterals with X and Y, or pass shading='auto', 'nearest' or 'gouraud', or set rcParams['pcolor.shading'].  This will become an error two minor releases later.\n",
      "  plt.pcolormesh(ds2.x,ds2.y,ds2.melt)\n"
     ]
    },
    {
     "name": "stdout",
     "output_type": "stream",
     "text": [
      "(1, 150)\n"
     ]
    },
    {
     "data": {
      "image/png": "[encoded data removed]",
      "text/plain": [
       "<Figure size 504x360 with 1 Axes>"
      ]
     },
     "metadata": {
      "needs_background": "light"
     },
     "output_type": "display_data"
    }
   ],
   "source": [
    "ds2 = xr.open_dataset(f'../../results/FRIS_1.0_linear_S134.8_T1-2.3_720.nc')\n",
    "#ds2 = ds2.sel(x=slice(-1283000,-1133500),y=slice(188000,188000+1000))\n",
    "ds2 = ds2.sel(x=slice(-1283000,-1133500),y=slice(188000,188000+1000))\n",
    "plt.pcolormesh(ds2.x,ds2.y,ds2.melt)\n",
    "print(ds2.melt.shape)"
   ]
  },
  {
   "cell_type": "code",
   "execution_count": 32,
   "metadata": {},
   "outputs": [
    {
     "name": "stdout",
     "output_type": "stream",
     "text": [
      "<xarray.DataArray 'x' ()>\n",
      "array(-1283000, dtype=int32)\n",
      "Coordinates:\n",
      "    x        int32 -1283000\n",
      "Attributes:\n",
      "    long_name:      Cartesian x-coordinate\n",
      "    standard_name:  projection_x_coordinate\n",
      "    units:          meter <xarray.DataArray 'x' ()>\n",
      "array(-1133500, dtype=int32)\n",
      "Coordinates:\n",
      "    x        int32 -1133500\n",
      "Attributes:\n",
      "    long_name:      Cartesian x-coordinate\n",
      "    standard_name:  projection_x_coordinate\n",
      "    units:          meter <xarray.DataArray 'y' ()>\n",
      "array(188000, dtype=int32)\n",
      "Coordinates:\n",
      "    y        int32 188000\n",
      "Attributes:\n",
      "    long_name:      Cartesian y-coordinate\n",
      "    standard_name:  projection_y_coordinate\n",
      "    units:          meter\n"
     ]
    },
    {
     "name": "stderr",
     "output_type": "stream",
     "text": [
      "/tmp/ipykernel_1769843/684731836.py:5: MatplotlibDeprecationWarning: shading='flat' when X and Y have the same dimensions as C is deprecated since 3.3.  Either specify the corners of the quadrilaterals with X and Y, or pass shading='auto', 'nearest' or 'gouraud', or set rcParams['pcolor.shading'].  This will become an error two minor releases later.\n",
      "  plt.pcolormesh(ds.x,ds.y,ds.surface-ds.thickness)\n"
     ]
    },
    {
     "data": {
      "text/plain": [
       "<matplotlib.collections.QuadMesh at 0x7f70075174c0>"
      ]
     },
     "execution_count": 32,
     "metadata": {},
     "output_type": "execute_result"
    },
    {
     "data": {
      "image/png": "[encoded data removed]",
      "text/plain": [
       "<Figure size 504x360 with 1 Axes>"
      ]
     },
     "metadata": {
      "needs_background": "light"
     },
     "output_type": "display_data"
    }
   ],
   "source": [
    "ds = xr.open_dataset('../../../data/BedMachineAntarctica_2020-07-15_v02.nc')\n",
    "ds = ds.isel(x=slice(x0,x1),y=slice(yy-10,yy+10))\n",
    "ds = add_lonlat(ds)\n",
    "print(ds.x[0],ds.x[-1],ds.y[0])\n",
    "plt.pcolormesh(ds.x,ds.y,ds.surface-ds.thickness)"
   ]
  },
  {
   "cell_type": "code",
   "execution_count": null,
   "metadata": {},
   "outputs": [],
   "source": []
  }
 ],
 "metadata": {
  "kernelspec": {
   "display_name": "Python 3.8.12 ('laddie')",
   "language": "python",
   "name": "python3"
  },
  "language_info": {
   "codemirror_mode": {
    "name": "ipython",
    "version": 3
   },
   "file_extension": ".py",
   "mimetype": "text/x-python",
   "name": "python",
   "nbconvert_exporter": "python",
   "pygments_lexer": "ipython3",
   "version": "3.8.12"
  },
  "orig_nbformat": 4,
  "vscode": {
   "interpreter": {
    "hash": "38a27636b36537651684dd7e48d915affeb1bbb6021558a98bbdecba35a3ba81"
   }
  }
 },
 "nbformat": 4,
 "nbformat_minor": 2
}
