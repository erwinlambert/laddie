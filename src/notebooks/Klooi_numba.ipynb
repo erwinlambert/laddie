{
 "cells": [
  {
   "cell_type": "code",
   "execution_count": null,
   "id": "a50316ea-9de7-47b4-9170-417ed6ad5bb2",
   "metadata": {},
   "outputs": [],
   "source": [
    "import xarray as xr\n",
    "import numpy as np\n",
    "import numba\n",
    "from numba import jit\n",
    "\n",
    "np.set_printoptions(precision=2)\n",
    "%matplotlib notebook\n",
    "%matplotlib inline\n",
    "%config InlineBackend.print_figure_kwargs={'bbox_inches':None}\n",
    "%load_ext autoreload\n",
    "%autoreload 2"
   ]
  },
  {
   "cell_type": "code",
   "execution_count": null,
   "id": "1252fa4e-3998-4aae-94c5-339181c6e9c4",
   "metadata": {},
   "outputs": [],
   "source": [
    "ds = xr.open_dataset(\"../../data/BedMachineAntarctica_2020-07-15_v02.nc\")\n",
    "var = ds.thickness.values\n",
    "ds.close()"
   ]
  },
  {
   "cell_type": "code",
   "execution_count": null,
   "id": "9ad7429d-eec8-4d12-8093-e19e3bcb9011",
   "metadata": {},
   "outputs": [],
   "source": [
    "var.shape"
   ]
  },
  {
   "cell_type": "code",
   "execution_count": null,
   "id": "e91f7e05-19ce-49d4-baf3-42f2bf7dbfc1",
   "metadata": {},
   "outputs": [],
   "source": [
    "vvar = np.random.randn(3,13333,13333)"
   ]
  },
  {
   "cell_type": "code",
   "execution_count": null,
   "id": "24593759-a79b-424a-b515-c313258524ab",
   "metadata": {},
   "outputs": [],
   "source": [
    "vvar.shape"
   ]
  },
  {
   "cell_type": "code",
   "execution_count": null,
   "id": "aef56001-139d-4083-8a11-311cfefea979",
   "metadata": {},
   "outputs": [],
   "source": []
  }
 ],
 "metadata": {
  "kernelspec": {
   "display_name": "Python 3 (ipykernel)",
   "language": "python",
   "name": "python3"
  },
  "language_info": {
   "codemirror_mode": {
    "name": "ipython",
    "version": 3
   },
   "file_extension": ".py",
   "mimetype": "text/x-python",
   "name": "python",
   "nbconvert_exporter": "python",
   "pygments_lexer": "ipython3",
   "version": "3.8.12"
  }
 },
 "nbformat": 4,
 "nbformat_minor": 5
}
