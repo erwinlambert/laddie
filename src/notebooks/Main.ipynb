{
 "cells": [
  {
   "cell_type": "code",
   "execution_count": null,
   "id": "2accfda4-0bfc-4be1-a723-bb59f81a6770",
   "metadata": {},
   "outputs": [],
   "source": [
    "import sys\n",
    "sys.path.append('../')\n",
    "\n",
    "import numpy as np\n",
    "import matplotlib as mpl\n",
    "import matplotlib.pyplot as plt\n",
    "from geometry import Geometry\n",
    "from forcing import Forcing\n",
    "from layer import LayerModel\n",
    "\n",
    "from plotfunctions import prettyplot\n",
    "import savetools as st\n",
    "\n",
    "#np.set_printoptions(precision=2)\n",
    "\n",
    "import warnings\n",
    "warnings.filterwarnings('ignore')\n",
    "np.seterr(all='ignore')\n",
    "\n",
    "%matplotlib widget\n",
    "%matplotlib inline\n",
    "%config InlineBackend.print_figure_kwargs={'bbox_inches':None}\n",
    "%load_ext autoreload\n",
    "%autoreload 2"
   ]
  },
  {
   "cell_type": "code",
   "execution_count": null,
   "id": "4d5766e5-a9ed-472a-9ab5-060aeba31741",
   "metadata": {},
   "outputs": [],
   "source": [
    "dts = np.array([])\n",
    "for n in np.arange(1,300):\n",
    "    dtt = 8640/n\n",
    "    if dtt==int(dtt):\n",
    "        dts = np.append(dts,dtt)\n",
    "dts = np.array(dts)\n",
    "dts"
   ]
  },
  {
   "cell_type": "code",
   "execution_count": null,
   "id": "b5ec02b1-5eda-4585-af0a-4724f97b94f5",
   "metadata": {},
   "outputs": [],
   "source": [
    "%%time\n",
    "\n",
    "N = 1\n",
    "\n",
    "#startyear = 2003\n",
    "#endyear = 2008\n",
    "\n",
    "geom = Geometry('CrossDots')\n",
    "geom.coarsen(N=N)\n",
    "geom = geom.create()\n",
    "\n",
    "#forc = Forcing(geom).mitgcm1Db(startyear=startyear,endyear=endyear)\n",
    "forc = Forcing(geom).tanh(ztcl=500,Tdeep=.4,z1=250)\n",
    "#print(forc.Sz[-1].values,forc.Sz[-1200].values)\n",
    "\n",
    "fig,ax = plt.subplots(1,3,sharey=True)\n",
    "ax[0].plot(forc.Tz,forc.z)\n",
    "ax[1].plot(forc.Sz,forc.z)\n",
    "ax[2].plot(1028*(3.733e-5*(forc.Tz[-1]-forc.Tz)+7.843e-4*(forc.Sz-forc.Sz[-1])),forc.z)\n",
    "ax[0].set_ylim([-1200,0])"
   ]
  },
  {
   "cell_type": "code",
   "execution_count": null,
   "id": "2304a66d",
   "metadata": {},
   "outputs": [],
   "source": [
    "\n",
    "layer = LayerModel(forc)\n",
    "\n",
    "layer.Ah = 25*N\n",
    "layer.Kh = 25*N\n",
    "\n",
    "layer.Cdtop = 1.1e-3\n",
    "layer.minD = 2.8\n",
    "layer.dt = 120\n",
    "\n",
    "layer.saveday = 5\n",
    "layer.restday = 100\n",
    "\n",
    "ds = layer.compute(days=50)\n",
    "#st.savefields(layer,filename=f'../../results/tuning/{0.5*N}_{layer.Cdtop*1e3:.1f}_{layer.minD}')"
   ]
  },
  {
   "cell_type": "code",
   "execution_count": null,
   "id": "4cd992d4-ccec-42cf-9669-deed0b795518",
   "metadata": {
    "tags": []
   },
   "outputs": [],
   "source": [
    "from tools import *\n",
    "\n",
    "fig,ax = plt.subplots(1,3,figsize=(20,10))\n",
    "#ax[0].quiver(layer.x,layer.y,im(layer.u[1,:,:]),jm(layer.v[1,:,:]),zorder=10)\n",
    "im = ax[0].pcolormesh(layer.x,layer.y,(im(layer.u[1,:,:])**2+jm(layer.v[1,:,:])**2)**.5,shading='auto',cmap='cmo.amp')\n",
    "ax[0].set_title('Speed [m/s]')\n",
    "plt.colorbar(im,ax=ax[0],orientation='horizontal')\n",
    "\n",
    "im = ax[1].pcolormesh(layer.x,layer.y,np.where(layer.tmask==1,layer.zb,np.nan),shading='auto',cmap='cmo.deep_r')\n",
    "plt.colorbar(im,ax=ax[1],orientation='horizontal')\n",
    "ax[1].set_title('basal topography [m]')\n",
    "im = ax[2].pcolormesh(layer.x,layer.y,np.where(layer.tmask==1,3600*24*365.25*layer.melt,np.nan),shading='auto',cmap='inferno',norm=mpl.colors.LogNorm(vmin=1,vmax=100))#,vmin=-2e-6,vmax=2e-6)\n",
    "plt.colorbar(im,ax=ax[2],orientation='horizontal')\n",
    "ax[2].set_title('melt rate [m/s]')"
   ]
  },
  {
   "cell_type": "code",
   "execution_count": null,
   "id": "6e290243-0707-4419-a294-8d6be7ae7627",
   "metadata": {
    "tags": []
   },
   "outputs": [],
   "source": [
    "from tools import *\n",
    "\n",
    "fig,ax = plt.subplots(1,3,figsize=(20,10))\n",
    "#ax[0].quiver(layer.x,layer.y,im(layer.u[1,:,:]),jm(layer.v[1,:,:]),zorder=10)\n",
    "im = ax[0].pcolormesh(layer.x,layer.y,(im(layer.u[1,:,:])**2+jm(layer.v[1,:,:])**2)**.5,shading='auto',cmap='cmo.amp')\n",
    "plt.colorbar(im,ax=ax[0],orientation='horizontal')\n",
    "\n",
    "im = ax[1].pcolormesh(layer.x,layer.y,np.where(layer.tmask==1,layer.D[1,:,:],np.nan),vmin=0,vmax=1000,shading='auto',cmap='cmo.deep')\n",
    "plt.colorbar(im,ax=ax[1],orientation='horizontal')\n",
    "\n",
    "im = ax[2].pcolormesh(layer.x,layer.y,np.where(layer.tmask==1,layer.zb-layer.D[1,:,:],np.nan),vmin=-800,vmax=0,shading='auto',cmap='gist_stern_r')\n",
    "plt.colorbar(im,ax=ax[2],orientation='horizontal')\n",
    "\n",
    "#for q in [0,1,2]:\n",
    "#    ax[q].set_xlim([-1.51e6,-1.49e6])\n",
    "#    ax[q].set_ylim([-640000,-620000])"
   ]
  },
  {
   "cell_type": "code",
   "execution_count": null,
   "id": "d2ec5a7c-cc33-469c-b3f8-73278e118452",
   "metadata": {
    "tags": []
   },
   "outputs": [],
   "source": [
    "\n",
    "fig,ax = plt.subplots(1,3,figsize=(20,10))\n",
    "im = ax[0].pcolormesh(layer.x,layer.y,np.where(layer.tmask==1,layer.ent2-layer.detr,np.nan),shading='auto',cmap='cmo.balance',vmin=-1e-4,vmax=1e-4)\n",
    "plt.colorbar(im,ax=ax[0],orientation='horizontal')\n",
    "\n",
    "im = ax[1].pcolormesh(layer.x,layer.y,np.where(layer.tmask==1,layer.entr,np.nan),shading='auto',cmap='cmo.balance',vmin=-1e-4,vmax=1e-4)\n",
    "plt.colorbar(im,ax=ax[1],orientation='horizontal')\n",
    "\n",
    "im = ax[2].pcolormesh(layer.x,layer.y,np.where(layer.tmask==1,layer.melt,np.nan),shading='auto',cmap='cmo.balance',vmin=-1e-6,vmax=1e-6)\n",
    "plt.colorbar(im,ax=ax[2],orientation='horizontal')\n",
    "\n",
    "#for q in [0,1,2]:\n",
    "#    ax[q].set_xlim([-1.51e6,-1.49e6])\n",
    "#    ax[q].set_ylim([-640000,-620000])"
   ]
  },
  {
   "cell_type": "code",
   "execution_count": null,
   "id": "0fb90511-88df-49f9-87ea-b3e43e6a2339",
   "metadata": {
    "tags": []
   },
   "outputs": [],
   "source": [
    "\n",
    "fig,ax = plt.subplots(1,3,figsize=(20,10))\n",
    "im = ax[0].pcolormesh(layer.x,layer.y,np.where(layer.tmask==1,layer.drho,np.nan),shading='auto',cmap='cmo.amp',vmin=0,vmax=5e-4)\n",
    "plt.colorbar(im,ax=ax[0],orientation='horizontal')\n",
    "\n",
    "im = ax[1].pcolormesh(layer.x,layer.y,np.where(layer.tmask==1,layer.T[1,:,:],np.nan),shading='auto',cmap='cmo.thermal',vmin=-2,vmax=1)\n",
    "plt.colorbar(im,ax=ax[1],orientation='horizontal')\n",
    "\n",
    "im = ax[2].pcolormesh(layer.x,layer.y,np.where(layer.tmask==1,layer.S[1,:,:],np.nan),shading='auto',cmap='cmo.haline')#,vmin=34,vmax=35)\n",
    "plt.colorbar(im,ax=ax[2],orientation='horizontal')\n",
    "\n",
    "#for q in [0,1,2]:\n",
    "#    ax[q].set_xlim([-1.51e6,-1.49e6])\n",
    "#    ax[q].set_ylim([-640000,-620000])"
   ]
  },
  {
   "cell_type": "code",
   "execution_count": null,
   "id": "92132b7b-3286-4e33-8f67-2bb8bdcb289d",
   "metadata": {
    "tags": []
   },
   "outputs": [],
   "source": [
    "\n",
    "fig,ax = plt.subplots(1,3,figsize=(20,10))\n",
    "im = ax[0].pcolormesh(layer.x,layer.y,np.where(layer.tmask==1,layer.drho,np.nan),shading='auto',cmap='cmo.amp',vmin=0,vmax=5e-4)\n",
    "plt.colorbar(im,ax=ax[0],orientation='horizontal')\n",
    "\n",
    "im = ax[1].pcolormesh(layer.x,layer.y,np.where(layer.tmask==1,layer.Ta,np.nan),shading='auto',cmap='cmo.thermal')\n",
    "plt.colorbar(im,ax=ax[1],orientation='horizontal')\n",
    "\n",
    "im = ax[2].pcolormesh(layer.x,layer.y,np.where(layer.tmask==1,layer.Sa,np.nan),shading='auto',cmap='cmo.haline')\n",
    "plt.colorbar(im,ax=ax[2],orientation='horizontal')\n",
    "\n",
    "#for q in [0,1,2]:\n",
    "#    ax[q].set_xlim([-1.51e6,-1.49e6])\n",
    "#    ax[q].set_ylim([-640000,-620000])"
   ]
  },
  {
   "cell_type": "code",
   "execution_count": null,
   "id": "236a84d2-ae09-4884-b48a-5c654f687001",
   "metadata": {},
   "outputs": [],
   "source": []
  }
 ],
 "metadata": {
  "kernelspec": {
   "display_name": "Python 3.8.12 ('laddie')",
   "language": "python",
   "name": "python3"
  },
  "language_info": {
   "codemirror_mode": {
    "name": "ipython",
    "version": 3
   },
   "file_extension": ".py",
   "mimetype": "text/x-python",
   "name": "python",
   "nbconvert_exporter": "python",
   "pygments_lexer": "ipython3",
   "version": "3.8.12"
  },
  "vscode": {
   "interpreter": {
    "hash": "38a27636b36537651684dd7e48d915affeb1bbb6021558a98bbdecba35a3ba81"
   }
  }
 },
 "nbformat": 4,
 "nbformat_minor": 5
}
