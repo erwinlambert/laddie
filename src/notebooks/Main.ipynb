{
 "cells": [
  {
   "cell_type": "code",
   "execution_count": null,
   "id": "2accfda4-0bfc-4be1-a723-bb59f81a6770",
   "metadata": {},
   "outputs": [],
   "source": [
    "import sys\n",
    "sys.path.append('../')\n",
    "\n",
    "import numpy as np\n",
    "import matplotlib.pyplot as plt\n",
    "from geometry import Geometry\n",
    "from forcing import Forcing\n",
    "from layer import LayerModel\n",
    "\n",
    "from plotfunctions import prettyplot\n",
    "\n",
    "#np.set_printoptions(precision=2)\n",
    "\n",
    "import warnings\n",
    "warnings.filterwarnings('ignore')\n",
    "np.seterr(all='ignore')\n",
    "\n",
    "%matplotlib notebook\n",
    "%matplotlib inline\n",
    "%config InlineBackend.print_figure_kwargs={'bbox_inches':None}\n",
    "%load_ext autoreload\n",
    "%autoreload 2"
   ]
  },
  {
   "cell_type": "code",
   "execution_count": null,
   "id": "fc919886-4d4e-4fb1-9d08-7a81428f3a68",
   "metadata": {},
   "outputs": [],
   "source": [
    "N = 1\n",
    "years = [1962,1972,1986]\n",
    "\n",
    "geom = Geometry('CrossDots')\n",
    "geom.coarsen(N=N)\n",
    "geom = geom.create()\n",
    "\n",
    "for yy in years:\n",
    "    forc = Forcing(geom).mitgcm(startyear=yy,endyear=yy)\n",
    "    layer = LayerModel(forc)\n",
    "    layer.dt = N*15\n",
    "    layer.saveday = 2\n",
    "    ds = layer.compute(days=10)"
   ]
  },
  {
   "cell_type": "code",
   "execution_count": null,
   "id": "cdef768d-c501-456b-9638-da1e63cb92cd",
   "metadata": {
    "jupyter": {
     "source_hidden": true
    },
    "tags": []
   },
   "outputs": [],
   "source": [
    "prettyplot(ds)"
   ]
  },
  {
   "cell_type": "code",
   "execution_count": null,
   "id": "6e290243-0707-4419-a294-8d6be7ae7627",
   "metadata": {
    "jupyter": {
     "source_hidden": true
    },
    "tags": []
   },
   "outputs": [],
   "source": [
    "from tools import *\n",
    "\n",
    "fig,ax = plt.subplots(1,3,figsize=(20,10))\n",
    "#ax[0].quiver(layer.x,layer.y,im(layer.u[1,:,:]),jm(layer.v[1,:,:]),zorder=10)\n",
    "im = ax[0].pcolormesh(layer.x,layer.y,(im(layer.u[1,:,:])**2+jm(layer.v[1,:,:])**2)**.5,shading='auto',cmap='cmo.amp')\n",
    "\n",
    "plt.colorbar(im,ax=ax[0],orientation='horizontal')\n",
    "\n",
    "im = ax[1].pcolormesh(layer.x,layer.y,np.where(layer.tmask==1,layer.D[1,:,:],np.nan),shading='auto',cmap='cmo.deep')\n",
    "plt.colorbar(im,ax=ax[1],orientation='horizontal')\n",
    "\n",
    "im = ax[2].pcolormesh(layer.x,layer.y,np.where(layer.tmask==1,layer.zb,np.nan),shading='auto',cmap='cmo.deep_r')\n",
    "plt.colorbar(im,ax=ax[2],orientation='horizontal')"
   ]
  },
  {
   "cell_type": "code",
   "execution_count": null,
   "id": "d2ec5a7c-cc33-469c-b3f8-73278e118452",
   "metadata": {
    "jupyter": {
     "source_hidden": true
    },
    "tags": []
   },
   "outputs": [],
   "source": [
    "\n",
    "fig,ax = plt.subplots(1,3,figsize=(20,10))\n",
    "im = ax[0].pcolormesh(layer.x,layer.y,np.where(layer.tmask==1,layer.ent2-layer.detr,np.nan),shading='auto',cmap='cmo.balance',vmin=-1e-4,vmax=1e-4)\n",
    "plt.colorbar(im,ax=ax[0],orientation='horizontal')\n",
    "\n",
    "im = ax[1].pcolormesh(layer.x,layer.y,np.where(layer.tmask==1,layer.entr,np.nan),shading='auto',cmap='cmo.balance',vmin=-1e-4,vmax=1e-4)\n",
    "plt.colorbar(im,ax=ax[1],orientation='horizontal')\n",
    "\n",
    "im = ax[2].pcolormesh(layer.x,layer.y,np.where(layer.tmask==1,layer.melt,np.nan),shading='auto',cmap='inferno')\n",
    "plt.colorbar(im,ax=ax[2],orientation='horizontal')\n",
    "\n"
   ]
  },
  {
   "cell_type": "code",
   "execution_count": null,
   "id": "0fb90511-88df-49f9-87ea-b3e43e6a2339",
   "metadata": {
    "jupyter": {
     "source_hidden": true
    },
    "tags": []
   },
   "outputs": [],
   "source": [
    "\n",
    "fig,ax = plt.subplots(1,3,figsize=(20,10))\n",
    "im = ax[0].pcolormesh(layer.x,layer.y,np.where(layer.tmask==1,layer.drho,np.nan),shading='auto',cmap='cmo.amp',vmin=0,vmax=5e-4)\n",
    "plt.colorbar(im,ax=ax[0],orientation='horizontal')\n",
    "\n",
    "im = ax[1].pcolormesh(layer.x,layer.y,np.where(layer.tmask==1,layer.T[1,:,:],np.nan),shading='auto',cmap='cmo.thermal')\n",
    "plt.colorbar(im,ax=ax[1],orientation='horizontal')\n",
    "\n",
    "im = ax[2].pcolormesh(layer.x,layer.y,np.where(layer.tmask==1,layer.S[1,:,:],np.nan),shading='auto',cmap='cmo.haline')\n",
    "plt.colorbar(im,ax=ax[2],orientation='horizontal')\n",
    "\n"
   ]
  },
  {
   "cell_type": "code",
   "execution_count": null,
   "id": "92132b7b-3286-4e33-8f67-2bb8bdcb289d",
   "metadata": {
    "jupyter": {
     "source_hidden": true
    },
    "tags": []
   },
   "outputs": [],
   "source": [
    "\n",
    "fig,ax = plt.subplots(1,3,figsize=(20,10))\n",
    "im = ax[0].pcolormesh(layer.x,layer.y,np.where(layer.tmask==1,layer.drho,np.nan),shading='auto',cmap='cmo.amp',vmin=0,vmax=5e-4)\n",
    "plt.colorbar(im,ax=ax[0],orientation='horizontal')\n",
    "\n",
    "im = ax[1].pcolormesh(layer.x,layer.y,np.where(layer.tmask==1,layer.Ta,np.nan),shading='auto',cmap='cmo.thermal')\n",
    "plt.colorbar(im,ax=ax[1],orientation='horizontal')\n",
    "\n",
    "im = ax[2].pcolormesh(layer.x,layer.y,np.where(layer.tmask==1,layer.Sa,np.nan),shading='auto',cmap='cmo.haline')\n",
    "plt.colorbar(im,ax=ax[2],orientation='horizontal')\n",
    "\n"
   ]
  },
  {
   "cell_type": "code",
   "execution_count": null,
   "id": "36fee2e4-c118-4566-a963-841f200e22e2",
   "metadata": {},
   "outputs": [],
   "source": []
  },
  {
   "cell_type": "code",
   "execution_count": null,
   "id": "236a84d2-ae09-4884-b48a-5c654f687001",
   "metadata": {},
   "outputs": [],
   "source": []
  }
 ],
 "metadata": {
  "kernelspec": {
   "display_name": "Python 3 (ipykernel)",
   "language": "python",
   "name": "python3"
  },
  "language_info": {
   "codemirror_mode": {
    "name": "ipython",
    "version": 3
   },
   "file_extension": ".py",
   "mimetype": "text/x-python",
   "name": "python",
   "nbconvert_exporter": "python",
   "pygments_lexer": "ipython3",
   "version": "3.8.12"
  }
 },
 "nbformat": 4,
 "nbformat_minor": 5
}
