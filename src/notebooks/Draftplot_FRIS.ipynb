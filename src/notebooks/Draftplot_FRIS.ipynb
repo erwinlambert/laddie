{
 "cells": [
  {
   "cell_type": "code",
   "execution_count": null,
   "id": "b33580c4-f855-4d45-ac2d-5fded727fe8d",
   "metadata": {},
   "outputs": [],
   "source": [
    "import numpy as np\n",
    "import xarray as xr\n",
    "import pyproj\n",
    "import matplotlib as mpl\n",
    "import matplotlib.pyplot as plt\n",
    "import cmocean as cmo\n",
    "from mpl_toolkits.axes_grid1 import make_axes_locatable\n",
    "from mpl_toolkits.axes_grid1.inset_locator import inset_axes\n",
    "import cartopy\n",
    "import cartopy.crs as ccrs\n",
    "\n",
    "\n",
    "import sys\n",
    "sys.path.append('../')\n",
    "\n",
    "from plotfunctions import add_lonlat\n",
    "\n",
    "np.seterr(all='ignore')\n",
    "%matplotlib inline\n",
    "%config InlineBackend.print_figure_kwargs={'bbox_inches':None}\n",
    "%load_ext autoreload\n",
    "%autoreload 2"
   ]
  },
  {
   "cell_type": "code",
   "execution_count": null,
   "id": "5db3e675-f243-442f-a0d1-9b294b09c36d",
   "metadata": {},
   "outputs": [],
   "source": [
    "proj = ccrs.SouthPolarStereo(true_scale_latitude=-78,central_longitude=-20)#260-360)\n",
    "axex = [275,332,-80,-76.5]"
   ]
  },
  {
   "cell_type": "code",
   "execution_count": null,
   "id": "ce307239-7255-4e91-9201-a900fb4a6073",
   "metadata": {},
   "outputs": [],
   "source": [
    "def makebackground(ax,axex):\n",
    "    cmap = plt.get_cmap('ocean')\n",
    "    ds = xr.open_dataset('../../../data/BedMachineAntarctica_2020-07-15_v02.nc')\n",
    "    ds = ds.isel(x=slice(3000,6500),y=slice(4000,7000))\n",
    "    mask = xr.where(ds.mask==1,2,ds.mask)\n",
    "    #mask[:] = xr.where(mask==1,2,mask)\n",
    "    ds = add_lonlat(ds)\n",
    "    \n",
    "    ax.set_facecolor(\".7\")\n",
    "    \n",
    "    cmap1 = mpl.colors.ListedColormap(plt.get_cmap('cmo.ice')(np.linspace(0,.5,255)))\n",
    "    cmap3 = mpl.colors.ListedColormap(plt.get_cmap('cmo.gray')(np.linspace(.5,.8,255)))\n",
    "\n",
    "    im1 = ax.pcolormesh(ds.lon,ds.lat,np.where(mask==0,ds.bed,np.nan),cmap=cmap1,shading='nearest',transform=ccrs.PlateCarree(),vmin=-1500,vmax=0)\n",
    "    im2 = ax.pcolormesh(ds.lon,ds.lat,np.where(mask==2,ds.surface-ds.thickness,np.nan),cmap=cmap3,shading='nearest',transform=ccrs.PlateCarree(),vmin=0,vmax=2000)\n",
    "\n",
    "    ax.set_extent(axex,crs=ccrs.PlateCarree())\n",
    "    #gl = ax.gridlines(linewidth=.2,color='.9')\n",
    "    #gl.xlocator = mpl.ticker.FixedLocator(np.arange(-180,179,1))\n",
    "    #gl.ylocator = mpl.ticker.FixedLocator(np.arange(-89,89,.2))"
   ]
  },
  {
   "cell_type": "code",
   "execution_count": null,
   "id": "a08d4f4e-4e96-427c-a9c8-7387819f56bf",
   "metadata": {},
   "outputs": [],
   "source": [
    "vmax = 10\n",
    "vmin = -3\n",
    "linthresh=.1\n",
    "linscale=.1\n",
    "\n",
    "fracpos = (np.log10(vmax/linthresh)+linscale)/(np.log10(vmax/linthresh)+np.log10(-(vmin/linthresh))+2*linscale)\n",
    "#fracpos = (np.log10(vmax/linthresh)+.5*linscale)/(np.log10(vmax)+np.log10(-(vmin/linthresh))+1*linscale)\n",
    "\n",
    "print(fracpos)\n",
    "nneg = np.int_((1-fracpos)*256)+1\n",
    "\n",
    "colors1 = plt.cm.PuBu(np.linspace(.2,.8, nneg))\n",
    "colors2 = plt.cm.inferno(np.linspace(0, 1, 256-nneg))\n",
    "\n",
    "# combine them and build a new colormap\n",
    "colors = np.vstack((colors1, colors2))\n",
    "mymap = mpl.colors.LinearSegmentedColormap.from_list('my_colormap', colors)"
   ]
  },
  {
   "cell_type": "code",
   "execution_count": null,
   "id": "9c052322-e4d1-4701-9f7d-fa1330bc8c0c",
   "metadata": {},
   "outputs": [],
   "source": [
    "plt.style.use('style_paper')\n",
    "\n",
    "mpl.rc('figure.subplot',left=.05,right=.95,top=.95,bottom=.1,wspace=.2,hspace=.1)\n",
    "\n",
    "ds = xr.open_dataset(f'../../results/FRIS_1.0_linear_S134.3_T1-2.3_030.nc')\n",
    "\n",
    "fig = plt.figure(figsize=(7,7))\n",
    "ax = fig.add_subplot(111,projection=proj)\n",
    "makebackground(ax,axex)\n",
    "im = ax.pcolormesh(ds.lon,ds.lat,xr.where(ds.tmask==1,ds.melt,np.nan),shading='auto',cmap=mymap,norm=mpl.colors.SymLogNorm(linthresh, vmin=vmin, vmax=vmax, linscale=linscale),transform=ccrs.PlateCarree())\n",
    "\n",
    "#ax.contour(ds.lon,ds.lat,xr.where(ds.tmask==1,ds.melt,np.nan),levels=[0,1e5],colors='w',transform=ccrs.PlateCarree())\n",
    "\n",
    "ax.gridlines(draw_labels=True)\n",
    "axins = inset_axes(ax,width=\"100%\",height=\"5%\",loc='lower left',bbox_to_anchor=(0,-.12,1,1),bbox_transform=ax.transAxes,borderpad=0)\n",
    "ticks = [-3,-1,-.3,-.1,0,.1,.3,1,3,10]\n",
    "cbar = plt.colorbar(im, cax=axins,extend='both',orientation='horizontal')\n",
    "cbar.set_ticks(ticks)\n",
    "cbar.set_ticklabels(ticks)\n",
    "cbar.set_label('Freezing / Melt rate [m yr$^{-1}$]')\n",
    "\n",
    "\n",
    "plt.savefig('../../figures/draftplot_FRIS_1.0.png',dpi=450)"
   ]
  },
  {
   "cell_type": "code",
   "execution_count": null,
   "id": "b60c73fd-fd07-48a9-8eaf-be4f5a53fa79",
   "metadata": {},
   "outputs": [],
   "source": [
    "plt.style.use('style_paper')\n",
    "\n",
    "mpl.rc('figure.subplot',left=.05,right=.95,top=.95,bottom=.1,wspace=.2,hspace=.1)\n",
    "\n",
    "ds = xr.open_dataset(f'../../results/FRIS_2.0_linear_S134.3_T1-2.3_180.nc')\n",
    "\n",
    "fig = plt.figure(figsize=(7,7))\n",
    "ax = fig.add_subplot(111,projection=proj)\n",
    "makebackground(ax,axex)\n",
    "im = ax.pcolormesh(ds.lon,ds.lat,xr.where(ds.tmask==1,ds.melt,np.nan),shading='auto',cmap=mymap,norm=mpl.colors.SymLogNorm(linthresh, vmin=vmin, vmax=vmax, linscale=linscale),transform=ccrs.PlateCarree())\n",
    "\n",
    "#ax.contour(ds.lon,ds.lat,xr.where(ds.tmask==1,ds.melt,np.nan),levels=[0,1e5],colors='w',transform=ccrs.PlateCarree())\n",
    "\n",
    "ax.gridlines(draw_labels=True)\n",
    "axins = inset_axes(ax,width=\"100%\",height=\"5%\",loc='lower left',bbox_to_anchor=(0,-.12,1,1),bbox_transform=ax.transAxes,borderpad=0)\n",
    "ticks = [-3,-1,-.3,-.1,0,.1,.3,1,3,10]\n",
    "cbar = plt.colorbar(im, cax=axins,extend='both',orientation='horizontal')\n",
    "cbar.set_ticks(ticks)\n",
    "cbar.set_ticklabels(ticks)\n",
    "cbar.set_label('Freezing / Melt rate [m yr$^{-1}$]')\n",
    "\n",
    "\n",
    "plt.savefig('../../figures/draftplot_FRIS_2.0.png',dpi=450)"
   ]
  },
  {
   "cell_type": "code",
   "execution_count": null,
   "id": "f42305aa-b706-4393-b777-9e57a6120098",
   "metadata": {},
   "outputs": [],
   "source": []
  },
  {
   "cell_type": "code",
   "execution_count": null,
   "id": "9dd5218e-d810-4619-b72e-1c9df0dfb430",
   "metadata": {},
   "outputs": [],
   "source": []
  }
 ],
 "metadata": {
  "kernelspec": {
   "display_name": "Python 3 (ipykernel)",
   "language": "python",
   "name": "python3"
  },
  "language_info": {
   "codemirror_mode": {
    "name": "ipython",
    "version": 3
   },
   "file_extension": ".py",
   "mimetype": "text/x-python",
   "name": "python",
   "nbconvert_exporter": "python",
   "pygments_lexer": "ipython3",
   "version": "3.8.12"
  }
 },
 "nbformat": 4,
 "nbformat_minor": 5
}
