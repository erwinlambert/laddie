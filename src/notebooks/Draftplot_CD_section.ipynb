{
 "cells": [
  {
   "cell_type": "code",
   "execution_count": null,
   "metadata": {},
   "outputs": [],
   "source": [
    "import numpy as np\n",
    "import xarray as xr\n",
    "import pyproj\n",
    "import matplotlib as mpl\n",
    "import matplotlib.pyplot as plt\n",
    "import cmocean as cmo\n",
    "from mpl_toolkits.axes_grid1 import make_axes_locatable\n",
    "from mpl_toolkits.axes_grid1.inset_locator import inset_axes\n",
    "import cartopy\n",
    "import cartopy.crs as ccrs\n",
    "#import string\n",
    "\n",
    "import sys\n",
    "sys.path.append('../')\n",
    "\n",
    "from plotfunctions import add_lonlat\n",
    "\n",
    "np.seterr(all='ignore')\n",
    "%matplotlib inline\n",
    "%config InlineBackend.print_figure_kwargs={'bbox_inches':None}\n",
    "%load_ext autoreload\n",
    "%autoreload 2"
   ]
  },
  {
   "cell_type": "code",
   "execution_count": null,
   "metadata": {},
   "outputs": [],
   "source": [
    "startyear = 2003\n",
    "endyear   = 2008"
   ]
  },
  {
   "cell_type": "code",
   "execution_count": null,
   "metadata": {},
   "outputs": [],
   "source": [
    "cmap1 = mpl.colors.ListedColormap(plt.get_cmap('cmo.deep_r')(np.linspace(0,.4,255)))\n",
    "cmap2 = 'cmo.rain'\n",
    "cmap3 = mpl.colors.ListedColormap(plt.get_cmap('cmo.gray')(np.linspace(.2,.6,255)))\n",
    "\n",
    "xx,y0,y1 = 3530,7900,8100"
   ]
  },
  {
   "cell_type": "code",
   "execution_count": null,
   "metadata": {},
   "outputs": [],
   "source": [
    "vmax = 100\n",
    "vmin = -10\n",
    "linthresh=1\n",
    "linscale=.2\n",
    "\n",
    "vmax = 100\n",
    "vmin = -10\n",
    "linthresh = .3\n",
    "linscale = .25\n",
    "\n",
    "\n",
    "fracpos = (np.log10(vmax/linthresh)+linscale)/(np.log10(vmax/linthresh)+np.log10(-(vmin/linthresh))+2*linscale)\n",
    "#print(fracpos)\n",
    "nneg = np.int_((1-fracpos)*256)\n",
    "\n",
    "colors1 = plt.get_cmap('cmo.ice_r')(np.linspace(0,.9,nneg))\n",
    "colors2 = plt.cm.inferno(np.linspace(0.1, 1, 256-nneg))\n",
    "\n",
    "# combine them and build a new colormap\n",
    "colors = np.vstack((colors1, colors2))\n",
    "mymap = mpl.colors.LinearSegmentedColormap.from_list('my_colormap', colors)"
   ]
  },
  {
   "cell_type": "code",
   "execution_count": null,
   "metadata": {},
   "outputs": [],
   "source": [
    "plt.style.use('style_paper')\n",
    "\n",
    "#mpl.rc('figure.subplot',left=.01,right=.98,top=.95,bottom=.15,wspace=.05,hspace=.2)\n",
    "#mpl.rc('text',usetex=False)\n",
    "fig = plt.figure(figsize=(7,4.5))\n",
    "\n",
    "fig,ax = plt.subplots(2,3,figsize=(7,4),sharey='row',sharex=True)\n",
    "\n",
    "for aa,xx in enumerate([3560,3536,3522]):\n",
    "\n",
    "    #Geometry\n",
    "    ds = xr.open_dataset('../../../data/BedMachineAntarctica_2020-07-15_v02.nc')\n",
    "    ds = ds.isel(x=slice(xx,xx+1),y=slice(y0,y1))\n",
    "    ds = add_lonlat(ds)\n",
    "\n",
    "    xarr = .5*(len(ds.y)-np.arange(0,len(ds.y)))\n",
    "\n",
    "    dax = ax[0,aa]\n",
    "    #dax.plot(ds.lon,ds.surface,c='.8')\n",
    "    #dax.plot(ds.lon,0*ds.y,'--',c='.5',lw=.5)\n",
    "    dax.plot(ds.lon,ds.surface-ds.thickness)\n",
    "    dax.fill_between(ds.lon[:,0],-1200+0*ds.y,ds.bed[:,0],color='.7',zorder=10)\n",
    "    dax.fill_between(ds.lon[:,0],ds.bed[:,0],(ds.surface-ds.thickness)[:,0],color='tab:blue')\n",
    "    dax.fill_between(ds.lon[:,0],ds.surface[:,0],800+0*ds.y,color='skyblue')\n",
    "\n",
    "    #ds2 = xr.open_dataset(f'../../results/spinup/CrossDots_0.5_mitgcm_{startyear}_{endyear}_100.nc')\n",
    "    ds2 = xr.open_dataset(f'../../results/CrossDots_0.5_tanh_Tdeep0.4_ztcl-500_050.nc')\n",
    "\n",
    "    xx2 = ds.x.values[0]\n",
    "    y02 = ds.y.values[0]\n",
    "    y12 = ds.y.values[-1]\n",
    "    ds2 = ds2.sel(x=slice(xx2,xx2),y=slice(y12,y02))\n",
    "\n",
    "    ds3 = xr.open_dataset('../../../data/gourmelen/CrossonDotson.nc')\n",
    "    ds3 = add_lonlat(ds3)\n",
    "    ds3 = ds3.sel(x=slice(xx2,xx2+500),y=slice(y12,y02+500))\n",
    "\n",
    "    dax = ax[1,aa]\n",
    "    dax.plot(ds2.lon,ds2.melt,label='LADDIE')\n",
    "    dax.plot(ds3.lon,ds3.Band1,label='Observations')\n",
    "    #dax.legend()\n",
    "\n",
    "for a in [0,1]:\n",
    "    ax[a,0].axvline(-113.4,0,1,c='.5')\n",
    "    ax[a,0].axvline(-113.1,0,1,c='k')\n",
    "    ax[a,1].axvline(-113.22,0,1,c='.5')\n",
    "    ax[a,1].axvline(-113.0,0,1,c='k')\n",
    "    ax[a,2].axvline(-113.18,0,1,c='.5')\n",
    "    ax[a,2].axvline(-113.0,0,1,c='k')\n",
    "\n",
    "ax[0,0].axvline(-113.4,0,1,c='.5',label='Coastal Ch.')\n",
    "ax[0,0].axvline(-113.1,0,1,c='k',label='Dotson Ch.')\n",
    "\n",
    "ax[0,0].set_ylabel('Depth [m]')\n",
    "ax[1,0].set_ylabel(r'Melt rate [m yr$^{-1}$')\n",
    "ax[0,0].set_xlim([-113.5,-112.3])\n",
    "ax[0,0].set_ylim([-500,100])\n",
    "ax[1,0].set_ylim([0,40])\n",
    "ax[1,1].set_xlabel(r\"Longitude [$^{\\circ}$E]\")\n",
    "\n",
    "ax[0,0].set_title('Section A')\n",
    "ax[0,1].set_title('Section B')\n",
    "ax[0,2].set_title('Section C')\n",
    "\n",
    "ax[0,0].legend()\n",
    "ax[1,0].legend()\n",
    "\n",
    "plt.savefig('../../figures/draftplot_CD_DC_section.png',dpi=450)\n"
   ]
  },
  {
   "cell_type": "code",
   "execution_count": null,
   "metadata": {},
   "outputs": [],
   "source": []
  },
  {
   "cell_type": "code",
   "execution_count": null,
   "metadata": {},
   "outputs": [],
   "source": []
  }
 ],
 "metadata": {
  "kernelspec": {
   "display_name": "Python 3.8.12 ('laddie')",
   "language": "python",
   "name": "python3"
  },
  "language_info": {
   "codemirror_mode": {
    "name": "ipython",
    "version": 3
   },
   "file_extension": ".py",
   "mimetype": "text/x-python",
   "name": "python",
   "nbconvert_exporter": "python",
   "pygments_lexer": "ipython3",
   "version": "3.8.12"
  },
  "orig_nbformat": 4,
  "vscode": {
   "interpreter": {
    "hash": "38a27636b36537651684dd7e48d915affeb1bbb6021558a98bbdecba35a3ba81"
   }
  }
 },
 "nbformat": 4,
 "nbformat_minor": 2
}
