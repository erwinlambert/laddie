{
 "cells": [
  {
   "cell_type": "code",
   "execution_count": null,
   "id": "28e002ab-8d27-455d-99cb-7718aff4b437",
   "metadata": {},
   "outputs": [],
   "source": [
    "import numpy as np\n",
    "import xarray as xr\n",
    "import pyproj\n",
    "import matplotlib as mpl\n",
    "import matplotlib.pyplot as plt\n",
    "import cmocean as cmo\n",
    "from mpl_toolkits.axes_grid1 import make_axes_locatable\n",
    "from mpl_toolkits.axes_grid1.inset_locator import inset_axes\n",
    "import cartopy\n",
    "import cartopy.crs as ccrs\n",
    "import string\n",
    "\n",
    "import sys\n",
    "sys.path.append('../')\n",
    "\n",
    "from plotfunctions import add_lonlat\n",
    "\n",
    "np.seterr(all='ignore')\n",
    "%matplotlib inline\n",
    "%matplotlib widget\n",
    "%config InlineBackend.print_figure_kwargs={'bbox_inches':None}\n",
    "%load_ext autoreload\n",
    "%autoreload 2"
   ]
  },
  {
   "cell_type": "code",
   "execution_count": null,
   "id": "d8265676-260e-4792-bad0-df07a5575d17",
   "metadata": {},
   "outputs": [],
   "source": [
    "startyear = 2003\n",
    "endyear   = 2008"
   ]
  },
  {
   "cell_type": "code",
   "execution_count": null,
   "id": "2182f116-b205-4470-a83c-2e25cfa5003a",
   "metadata": {},
   "outputs": [],
   "source": [
    "proj = ccrs.SouthPolarStereo(true_scale_latitude=-75,central_longitude=0)#260-360)\n",
    "axex = [245.8,251,-75.2,-74.4]\n",
    "axex2 = [245.7,246.1,-75.11,-74.85]\n",
    "axex3 = [246.8,247,-74.6,-74.3]\n",
    "axex4 = [248.93,249.07,-75.35,-74.7]\n",
    "\n",
    "\n",
    "cmap1 = mpl.colors.ListedColormap(plt.get_cmap('cmo.deep_r')(np.linspace(0,.4,255)))\n",
    "cmap2 = 'cmo.rain'\n",
    "cmap3 = mpl.colors.ListedColormap(plt.get_cmap('cmo.gray')(np.linspace(.2,.6,255)))\n",
    "\n",
    "x0,x1,y0,y1 = 3400,3800,7700,8100"
   ]
  },
  {
   "cell_type": "code",
   "execution_count": null,
   "id": "cd2c8b83-fbdb-4b10-b70a-63d556b01256",
   "metadata": {},
   "outputs": [],
   "source": [
    "vmax = 100\n",
    "vmin = -10\n",
    "linthresh=1\n",
    "linscale=.2\n",
    "\n",
    "vmax = 100\n",
    "vmin = -10\n",
    "linthresh = .3\n",
    "linscale = .25\n",
    "\n",
    "\n",
    "fracpos = (np.log10(vmax/linthresh)+linscale)/(np.log10(vmax/linthresh)+np.log10(-(vmin/linthresh))+2*linscale)\n",
    "#print(fracpos)\n",
    "nneg = np.int_((1-fracpos)*256)\n",
    "\n",
    "colors1 = plt.get_cmap('cmo.ice_r')(np.linspace(0,.9,nneg))\n",
    "colors2 = plt.cm.inferno(np.linspace(0.1, 1, 256-nneg))\n",
    "\n",
    "# combine them and build a new colormap\n",
    "colors = np.vstack((colors1, colors2))\n",
    "mymap = mpl.colors.LinearSegmentedColormap.from_list('my_colormap', colors)\n"
   ]
  },
  {
   "cell_type": "code",
   "execution_count": null,
   "id": "3218cc3d-0ed7-48a9-9c62-21e8de57d744",
   "metadata": {},
   "outputs": [],
   "source": [
    "def makebackground(ax,axex):\n",
    "    cmap = plt.get_cmap('ocean')\n",
    "    ds = xr.open_dataset('../../../data/BedMachineAntarctica_2020-07-15_v02.nc')\n",
    "    ds = ds.isel(x=slice(x0,x1),y=slice(y0,y1))\n",
    "    mask = xr.where(ds.mask==1,2,ds.mask)\n",
    "    ds = add_lonlat(ds)\n",
    "    \n",
    "    ax.set_facecolor(\".7\")\n",
    "    \n",
    "    im1 = ax.pcolormesh(ds.lon,ds.lat,np.where(mask==0,ds.bed,np.nan),cmap=cmap1,shading='nearest',transform=ccrs.PlateCarree(),vmin=-1500,vmax=0)\n",
    "    im2 = ax.pcolormesh(ds.lon,ds.lat,np.where(mask==2,ds.bed,np.nan),cmap=cmap3,shading='nearest',transform=ccrs.PlateCarree(),vmin=-2000,vmax=0)\n",
    "\n",
    "    #ax.contour(ds.lon,ds.lat,np.where(ds.mask==3,ds.thickness-ds.surface,np.nan),[450],colors='k',linewidths=.5,transform=ccrs.PlateCarree(),zorder=10)\n",
    "    \n",
    "    ax.set_extent(axex,crs=ccrs.PlateCarree())"
   ]
  },
  {
   "cell_type": "code",
   "execution_count": null,
   "id": "9f5fefe0-6890-4b94-88ba-07febcd5f80a",
   "metadata": {},
   "outputs": [],
   "source": [
    "def plotmelt(ax,lon,lat,melt,title):\n",
    "    makebackground(ax,axex)\n",
    "    ax.set_extent(axex,crs=ccrs.PlateCarree())\n",
    "    im = ax.pcolormesh(lon,lat,melt,cmap=mymap,norm=mpl.colors.SymLogNorm(linthresh, vmin=vmin, vmax=vmax, linscale=linscale),shading='nearest',transform=ccrs.PlateCarree())\n",
    "\n",
    "    ax.set_title(title,loc='left',fontsize=10)\n",
    "    \n",
    "    return im"
   ]
  },
  {
   "cell_type": "code",
   "execution_count": null,
   "id": "285d0653-d4d1-47c6-b353-ba089ba1c27b",
   "metadata": {},
   "outputs": [],
   "source": [
    "plt.style.use('style_paper')\n",
    "\n",
    "mpl.rc('figure.subplot',left=.01,right=.98,top=.95,bottom=.2,wspace=.05,hspace=.0)\n",
    "\n",
    "fig = plt.figure(figsize=(7,4))\n",
    "\n",
    "#1D forcing\n",
    "ax = fig.add_subplot(131,projection=ccrs.SouthPolarStereo(true_scale_latitude=-75,central_longitude=0))\n",
    "\n",
    "ds1 = xr.open_dataset(f'../../results/CrossDots_0.5_tanh_Tdeep0.4_ztcl-500_050.nc')\n",
    "\n",
    "im = plotmelt(ax,ds1.lon,ds1.lat,np.where(ds1.tmask,ds1.melt,np.nan),'a) 1D forcing')\n",
    "\n",
    "#3D forcing\n",
    "ax = fig.add_subplot(132,projection=ccrs.SouthPolarStereo(true_scale_latitude=-75,central_longitude=0))\n",
    "\n",
    "ds2 = xr.open_dataset(f'../../results/spinup/CrossDots_0.5_mitgcm_{startyear}_{endyear}_100.nc')\n",
    "\n",
    "im = plotmelt(ax,ds2.lon,ds2.lat,np.where(ds2.tmask,ds2.melt,np.nan),'b) 3D forcing')\n",
    "\n",
    "#Diff\n",
    "ax = fig.add_subplot(133,projection=ccrs.SouthPolarStereo(true_scale_latitude=-75,central_longitude=0))\n",
    "\n",
    "makebackground(ax,axex)\n",
    "ax.set_extent(axex,crs=ccrs.PlateCarree())\n",
    "ax.set_title('c) Difference',loc='left',fontsize=10)\n",
    "\n",
    "#im2 = ax.pcolormesh(ds1.lon,ds1.lat,np.where(ds1.mask==3,100*(ds2.melt-ds1.melt)/ds1.melt,np.nan),cmap='cmo.balance',shading='nearest',transform=ccrs.PlateCarree(),vmin=-100,vmax=100)\n",
    "im2 = ax.pcolormesh(ds1.lon,ds1.lat,np.where(ds1.mask==3,ds2.melt-ds1.melt,np.nan),cmap='cmo.balance',shading='nearest',transform=ccrs.PlateCarree(),vmin=-10,vmax=10)\n",
    "\n",
    "#Colorbars\n",
    "\n",
    "ax = fig.add_subplot(111)\n",
    "ax.set_visible(False)\n",
    "cax = inset_axes(ax,width=\"32%\",height=\"5%\",loc='lower left',bbox_to_anchor=(.68,-.08,1,1),bbox_transform=ax.transAxes,borderpad=0)\n",
    "cb = plt.colorbar(im2,cax=cax,orientation='horizontal',extend='both')\n",
    "#cb.set_label('Relative difference (m$_{3D}$ - m$_{1D}$)/m$_{1D}$ [\\%]')\n",
    "cb.set_label('Melt rate difference m$_{3D}$ - m$_{1D}$ [m yr$^{-1}$]')\n",
    "\n",
    "\n",
    "cax = inset_axes(ax,width=\"66%\",height=\"5%\",loc='lower left',bbox_to_anchor=(.0,-.08,1,1),bbox_transform=ax.transAxes,borderpad=0)\n",
    "ticks = [-10,-3,-1,-.3,0,.3,1,3,10,30,100]\n",
    "cb = plt.colorbar(im,cax=cax,orientation='horizontal',extend='both')\n",
    "cb.set_ticks(ticks)\n",
    "cb.set_ticklabels(ticks)\n",
    "cb.set_label('Freezing / Melt rate [m yr$^{-1}$]')\n",
    "\n",
    "plt.savefig('../../figures/draftplot_CD_forcing.png',dpi=450)"
   ]
  },
  {
   "cell_type": "code",
   "execution_count": null,
   "id": "7f218311-c51a-44e9-926d-a7c49d48089e",
   "metadata": {},
   "outputs": [],
   "source": [
    "fig = plt.figure()\n",
    "ax = fig.add_subplot(131,projection=ccrs.SouthPolarStereo(true_scale_latitude=-75,central_longitude=0))\n",
    "im = ax.pcolormesh(ds1.lon,ds1.lat,np.where(ds1.mask==3,ds2.D-ds1.D,np.nan),cmap='cmo.balance',shading='nearest',transform=ccrs.PlateCarree(),vmin=-100,vmax=100)\n",
    "plt.colorbar(im,orientation='horizontal')\n",
    "\n",
    "ax = fig.add_subplot(132,projection=ccrs.SouthPolarStereo(true_scale_latitude=-75,central_longitude=0))\n",
    "im = ax.pcolormesh(ds1.lon,ds1.lat,np.where(ds1.mask==3,(ds2.U**2+ds2.V**2)**.5-(ds1.U**2+ds1.V**2)**.5,np.nan),cmap='cmo.balance',shading='nearest',transform=ccrs.PlateCarree(),vmin=-.1,vmax=.1)\n",
    "plt.colorbar(im,orientation='horizontal')\n",
    "\n",
    "ax = fig.add_subplot(133,projection=ccrs.SouthPolarStereo(true_scale_latitude=-75,central_longitude=0))\n",
    "im = ax.pcolormesh(ds1.lon,ds1.lat,np.where(ds1.mask==3,ds2.T-ds1.T,np.nan),cmap='cmo.balance',shading='nearest',transform=ccrs.PlateCarree(),vmin=-1,vmax=1)\n",
    "plt.colorbar(im,orientation='horizontal')"
   ]
  },
  {
   "cell_type": "code",
   "execution_count": null,
   "id": "ecaa1b9c",
   "metadata": {},
   "outputs": [],
   "source": []
  },
  {
   "cell_type": "code",
   "execution_count": null,
   "id": "8d7f97d5",
   "metadata": {},
   "outputs": [],
   "source": []
  }
 ],
 "metadata": {
  "kernelspec": {
   "display_name": "Python 3.8.12 ('laddie')",
   "language": "python",
   "name": "python3"
  },
  "language_info": {
   "codemirror_mode": {
    "name": "ipython",
    "version": 3
   },
   "file_extension": ".py",
   "mimetype": "text/x-python",
   "name": "python",
   "nbconvert_exporter": "python",
   "pygments_lexer": "ipython3",
   "version": "3.8.12"
  },
  "vscode": {
   "interpreter": {
    "hash": "38a27636b36537651684dd7e48d915affeb1bbb6021558a98bbdecba35a3ba81"
   }
  }
 },
 "nbformat": 4,
 "nbformat_minor": 5
}
