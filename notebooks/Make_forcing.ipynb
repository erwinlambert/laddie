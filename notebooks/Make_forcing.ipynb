{
 "cells": [
  {
   "cell_type": "code",
   "execution_count": null,
   "metadata": {},
   "outputs": [],
   "source": [
    "import xarray as xr\n",
    "import numpy as np\n",
    "import matplotlib.pyplot as plt"
   ]
  },
  {
   "cell_type": "code",
   "execution_count": null,
   "metadata": {},
   "outputs": [],
   "source": [
    "T0 = -1.7\n",
    "T1 = 1.0\n",
    "S0 = 34.0\n",
    "S1 = 34.5\n",
    "z0 = -700\n",
    "\n",
    "#Vertical coordinate, must be negative values increasing up to 0\n",
    "z    = np.arange(-5000.,0,1)\n",
    "\n",
    "#Temperature and salinity values\n",
    "T = np.minimum(T0 + z*(T1-T0)/z0,T1)\n",
    "S = np.minimum(S0 + z*(S1-S0)/z0,S1)"
   ]
  },
  {
   "cell_type": "code",
   "execution_count": null,
   "metadata": {},
   "outputs": [],
   "source": [
    "#Plot profiles\n",
    "\n",
    "fig,ax = plt.subplots(1,2,sharey=True)\n",
    "ax[0].plot(T,z)\n",
    "ax[1].plot(S,z)"
   ]
  },
  {
   "cell_type": "code",
   "execution_count": null,
   "metadata": {},
   "outputs": [],
   "source": [
    "#Save forcing profiles\n",
    "\n",
    "ds = xr.Dataset()\n",
    "ds = ds.assign_coords({'z':z})\n",
    "ds['T'] = (['z'], T.astype('float64'))\n",
    "ds['S'] = (['z'], S.astype('float64'))\n",
    "ds.to_netcdf('../input/forc_test.nc')\n",
    "ds.close()"
   ]
  },
  {
   "cell_type": "code",
   "execution_count": null,
   "metadata": {},
   "outputs": [],
   "source": []
  }
 ],
 "metadata": {
  "kernelspec": {
   "display_name": "laddie",
   "language": "python",
   "name": "python3"
  },
  "language_info": {
   "codemirror_mode": {
    "name": "ipython",
    "version": 3
   },
   "file_extension": ".py",
   "mimetype": "text/x-python",
   "name": "python",
   "nbconvert_exporter": "python",
   "pygments_lexer": "ipython3",
   "version": "3.8.13"
  },
  "orig_nbformat": 4
 },
 "nbformat": 4,
 "nbformat_minor": 2
}
