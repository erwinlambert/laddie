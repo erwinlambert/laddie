{
 "cells": [
  {
   "cell_type": "code",
   "execution_count": null,
   "metadata": {},
   "outputs": [],
   "source": [
    "import xarray as xr\n",
    "import numpy as np\n",
    "import matplotlib.pyplot as plt\n"
   ]
  },
  {
   "cell_type": "code",
   "execution_count": null,
   "metadata": {},
   "outputs": [],
   "source": [
    "#Bedmachine\n",
    "ds = xr.open_dataset(\"../data/BedMachineAntarctica_2020-07-15_v02.nc\")\n",
    "ds = ds.isel(x=slice(3445,3705),y=slice(7730,8065))\n",
    "#ds.to_netcdf(\"../input/CrossDots.nc\")\n",
    "ds\n",
    "plt.pcolormesh(ds.x,ds.y,ds.mask)\n",
    "plt.colorbar()"
   ]
  },
  {
   "cell_type": "code",
   "execution_count": null,
   "metadata": {},
   "outputs": [],
   "source": [
    "#ISOMIP\n",
    "ds = xr.open_dataset(\"../../data/isomip/Ocean2_input_geom_v1.01.nc\")\n",
    "ds['surface'] = ds['upperSurface']\n",
    "ds['thickness'] = ds['upperSurface']-ds['lowerSurface']\n",
    "ds['bed'] = ds['bedrockTopography']\n",
    "ds['mask'] = 0.*ds['upperSurface']\n",
    "ds['mask'] = xr.where(ds['groundedMask'],2,ds['mask'])\n",
    "ds['mask'] = xr.where(ds['floatingMask'],3,ds['mask'])\n",
    "ds = ds.drop_vars(['upperSurface','lowerSurface','bedrockTopography','floatingMask','groundedMask','openOceanMask'])\n",
    "ds.to_netcdf(\"../input/Ocean2.nc\")\n",
    "ds"
   ]
  },
  {
   "cell_type": "code",
   "execution_count": null,
   "metadata": {},
   "outputs": [],
   "source": []
  }
 ],
 "metadata": {
  "kernelspec": {
   "display_name": "Python 3.8.13 ('laddie')",
   "language": "python",
   "name": "python3"
  },
  "language_info": {
   "codemirror_mode": {
    "name": "ipython",
    "version": 3
   },
   "file_extension": ".py",
   "mimetype": "text/x-python",
   "name": "python",
   "nbconvert_exporter": "python",
   "pygments_lexer": "ipython3",
   "version": "3.8.13"
  },
  "orig_nbformat": 4,
  "vscode": {
   "interpreter": {
    "hash": "7f9814b631916b6578bb1882144a98aa5a7fc1e1a79f30bfec08785a4adade49"
   }
  }
 },
 "nbformat": 4,
 "nbformat_minor": 2
}
