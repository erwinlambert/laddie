{
 "cells": [
  {
   "cell_type": "markdown",
   "metadata": {},
   "source": [
    "Example of how to run the LADDIE model and to plot output"
   ]
  },
  {
   "cell_type": "code",
   "execution_count": null,
   "metadata": {},
   "outputs": [],
   "source": [
    "import sys\n",
    "sys.path.append('../src/')\n",
    "\n",
    "import numpy as np\n",
    "import matplotlib as mpl\n",
    "import matplotlib.pyplot as plt\n",
    "\n",
    "from laddie import Laddie\n",
    "from geometry import Geometry\n",
    "from forcing import Forcing\n",
    "from plotfunctions import prettyplot\n",
    "from tools import im,jm"
   ]
  },
  {
   "cell_type": "markdown",
   "metadata": {},
   "source": [
    "Prepare model"
   ]
  },
  {
   "cell_type": "code",
   "execution_count": null,
   "metadata": {},
   "outputs": [],
   "source": [
    "#Create geometry\n",
    "geom = Geometry('CrossDots')\n",
    "geom = geom.create()\n",
    "\n",
    "#Create forcing\n",
    "forc = Forcing(geom).tanh(ztcl=500,Tdeep=.4,z1=250)\n",
    "\n",
    "#Create laddie\n",
    "laddie = Laddie(forc)"
   ]
  },
  {
   "cell_type": "markdown",
   "metadata": {},
   "source": [
    "Adapt a number of parameters"
   ]
  },
  {
   "cell_type": "code",
   "execution_count": null,
   "metadata": {},
   "outputs": [],
   "source": [
    "laddie.Ah = 25 #Horizontal viscosity\n",
    "laddie.Kh = 25 #Horizontal diffusivity\n",
    "\n",
    "laddie.Cdtop = 1.1e-3 #Top drag coefficient\n",
    "laddie.minD = 2.8 #Minimum laddie thickness\n",
    "laddie.dt = 120 #Time step\n",
    "\n",
    "laddie.saveday = 5 #Interval at which to save output"
   ]
  },
  {
   "cell_type": "markdown",
   "metadata": {},
   "source": [
    "Run the model"
   ]
  },
  {
   "cell_type": "code",
   "execution_count": null,
   "metadata": {},
   "outputs": [],
   "source": [
    "ds = laddie.compute(days=.1)"
   ]
  },
  {
   "cell_type": "markdown",
   "metadata": {},
   "source": [
    "Plot output some output variables"
   ]
  },
  {
   "cell_type": "code",
   "execution_count": null,
   "metadata": {},
   "outputs": [],
   "source": [
    "fig,ax = plt.subplots(1,3,figsize=(20,10))\n",
    "\n",
    "im = ax[0].pcolormesh(laddie.x,laddie.y,(im(laddie.U[1,:,:])**2+jm(laddie.V[1,:,:])**2)**.5,shading='auto',cmap='cmo.amp')\n",
    "ax[0].set_title('Speed [m/s]')\n",
    "plt.colorbar(im,ax=ax[0],orientation='horizontal')\n",
    "\n",
    "im = ax[1].pcolormesh(laddie.x,laddie.y,np.where(laddie.tmask==1,laddie.zb,np.nan),shading='auto',cmap='cmo.deep_r')\n",
    "plt.colorbar(im,ax=ax[1],orientation='horizontal')\n",
    "ax[1].set_title('ice shelf draft [m]')\n",
    "\n",
    "im = ax[2].pcolormesh(laddie.x,laddie.y,np.where(laddie.tmask==1,3600*24*365.25*laddie.melt,np.nan),shading='auto',cmap='inferno',norm=mpl.colors.LogNorm(vmin=1,vmax=100))\n",
    "plt.colorbar(im,ax=ax[2],orientation='horizontal')\n",
    "ax[2].set_title('melt rate [m/s]')"
   ]
  },
  {
   "cell_type": "code",
   "execution_count": null,
   "metadata": {},
   "outputs": [],
   "source": []
  }
 ],
 "metadata": {
  "kernelspec": {
   "display_name": "Python 3.8.13 ('laddie')",
   "language": "python",
   "name": "python3"
  },
  "language_info": {
   "codemirror_mode": {
    "name": "ipython",
    "version": 3
   },
   "file_extension": ".py",
   "mimetype": "text/x-python",
   "name": "python",
   "nbconvert_exporter": "python",
   "pygments_lexer": "ipython3",
   "version": "3.8.13"
  },
  "orig_nbformat": 4,
  "vscode": {
   "interpreter": {
    "hash": "7f9814b631916b6578bb1882144a98aa5a7fc1e1a79f30bfec08785a4adade49"
   }
  }
 },
 "nbformat": 4,
 "nbformat_minor": 2
}
