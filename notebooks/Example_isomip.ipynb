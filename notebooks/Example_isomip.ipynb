{
 "cells": [
  {
   "cell_type": "code",
   "execution_count": null,
   "metadata": {},
   "outputs": [],
   "source": [
    "import sys\n",
    "sys.path.append('../src/')\n",
    "\n",
    "import numpy as np\n",
    "import matplotlib as mpl\n",
    "import matplotlib.pyplot as plt\n",
    "import cmocean as cmo\n",
    "import xarray as xr\n",
    "\n",
    "from laddie import Laddie\n",
    "from geometry import Geometry\n",
    "from forcing import Forcing\n",
    "from tools import im,jm\n",
    "\n",
    "%matplotlib inline\n",
    "%config InlineBackend.print_figure_kwargs={'bbox_inches':None}\n",
    "%load_ext autoreload\n",
    "%autoreload 2"
   ]
  },
  {
   "cell_type": "code",
   "execution_count": null,
   "metadata": {},
   "outputs": [],
   "source": [
    "geom = Geometry('../../data/isomip/Ocean3_input_geom_v1.01.nc')\n",
    "geom.coarsen(N=2)\n",
    "geom = geom.create()\n",
    "\n",
    "forc = Forcing(geom).isomip('WARM')\n",
    "\n",
    "#Create laddie\n",
    "laddie = Laddie(forc)\n",
    "\n",
    "laddie.Ah = 6 #Horizontal viscosity\n",
    "laddie.Kh = 1 #Horizontal diffusivity\n",
    "\n",
    "laddie.Cdtop = 1.1e-3 #Top drag coefficient\n",
    "laddie.minD = 6.8 #Minimum layer thickness\n",
    "laddie.dt = 320 #Time step\n",
    "laddie.nu = .3\n",
    "\n",
    "laddie.saveday = 10 #Interval at which to save output\n",
    "laddie.restday = 10 #Interval at which to save restart file and restart run"
   ]
  },
  {
   "cell_type": "code",
   "execution_count": null,
   "metadata": {},
   "outputs": [],
   "source": [
    "ds = laddie.compute(days=30)"
   ]
  },
  {
   "cell_type": "code",
   "execution_count": null,
   "metadata": {},
   "outputs": [],
   "source": [
    "fig,ax = plt.subplots(3,1,figsize=(15,7),sharex=True)\n",
    "\n",
    "im = ax[0].pcolormesh(laddie.x,laddie.y,(im(laddie.U[1,:,:])**2+jm(laddie.V[1,:,:])**2)**.5,shading='auto',cmap='cmo.amp')\n",
    "ax[0].set_title('Speed [m/s]')\n",
    "plt.colorbar(im,ax=ax[0])\n",
    "\n",
    "im = ax[1].pcolormesh(laddie.x,laddie.y,np.where(laddie.tmask==1,laddie.zb,np.nan),shading='auto',cmap='cmo.deep_r')\n",
    "plt.colorbar(im,ax=ax[1])\n",
    "ax[1].set_title('ice shelf draft [m]')\n",
    "\n",
    "im = ax[2].pcolormesh(laddie.x,laddie.y,np.where(laddie.tmask==1,3600*24*365.25*laddie.melt,np.nan),shading='auto',cmap='inferno',norm=mpl.colors.LogNorm(vmin=1,vmax=100))\n",
    "plt.colorbar(im,ax=ax[2])\n",
    "ax[2].set_title('melt rate [m/yr]')\n",
    "\n",
    "for n in [0,1,2]:\n",
    "    ax[n].set_aspect('equal', 'box')"
   ]
  }
 ],
 "metadata": {
  "kernelspec": {
   "display_name": "Python 3.8.13 ('laddie')",
   "language": "python",
   "name": "python3"
  },
  "language_info": {
   "codemirror_mode": {
    "name": "ipython",
    "version": 3
   },
   "file_extension": ".py",
   "mimetype": "text/x-python",
   "name": "python",
   "nbconvert_exporter": "python",
   "pygments_lexer": "ipython3",
   "version": "3.8.13"
  },
  "orig_nbformat": 4,
  "vscode": {
   "interpreter": {
    "hash": "7f9814b631916b6578bb1882144a98aa5a7fc1e1a79f30bfec08785a4adade49"
   }
  }
 },
 "nbformat": 4,
 "nbformat_minor": 2
}
